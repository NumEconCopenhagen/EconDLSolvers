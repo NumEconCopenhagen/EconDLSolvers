{
 "cells": [
  {
   "cell_type": "markdown",
   "metadata": {},
   "source": [
    "# Buffer-Stock Model with Human Capital\n",
    "\n",
    "A household chooses its labor supply and consumption to maximize intertemporal utility\n",
    "$$u=\\log (c_t) + \\varphi \\frac{(1-\\ell_t)^(1-\\nu)}{1-\\nu}$$\n",
    "where $\\ell_t\\in (0,1)$. The households accumulate human capital as $$h_{t+1}=h_t+\\ell_t$$ and human capital increases the labor income of the household as \n",
    "$$w_t = 1+\\alpha h_t.$$\n",
    "The household is also subject to transitory shocks $\\psi_t$ and persistent shocks to permanent income $$p_{t+1}=p_t^{\\rho_p} \\xi_{t+1}.$$\n",
    "The budget constraint thus writes\n",
    "$$a_{t+1}+c_t = a_t(1+r)+p_t w_t \\psi_t p_t \\kappa_t \\ell_t$$ \n",
    "where $\\kappa_t$ is a life-cycle component of income. When a household retires, it gets an income $\\kappa_t$. \n",
    "\n",
    "The Euler equation for savings writes\n",
    "$$u'_{c,t} = \\beta (1+r)\\mathbb{E}[u'_{c,t+1}].$$ \n",
    "The Euler equation for labor writes\n",
    "\n",
    "$$u'_{l,t}+p_t w_t \\psi_t p_t \\kappa_t u'_{c,t}=\\beta\\mathbb{E}\\Big[u'_{l,t+1}-p_{t+1}\\psi_{t+1} \\kappa_{t+1} u'_{c,t+1} (\\alpha l_{t+1} - (1+\\alpha k_{t+1}))\\Big]$$\n",
    "\n"
   ]
  },
  {
   "cell_type": "markdown",
   "metadata": {},
   "source": [
    "# 1. Imports\n"
   ]
  },
  {
   "cell_type": "code",
   "execution_count": null,
   "metadata": {},
   "outputs": [],
   "source": [
    "%load_ext autoreload\n",
    "%autoreload 2\n",
    "\n",
    "from HumanCapitalModel import HumanCapitalModelClass\n",
    "import numpy as np\n",
    "import matplotlib.pyplot as plt\n",
    "plt.rcParams.update({\n",
    "    \"axes.grid\": True,\n",
    "    \"grid.color\": \"black\",\n",
    "    \"grid.alpha\": 0.25,\n",
    "    \"grid.linestyle\": \"--\",\n",
    "    \"font.size\": 14                    # Set font size\n",
    "})\n",
    "colors = plt.rcParams['axes.prop_cycle'].by_key()['color']\n",
    "from EconDLSolvers import choose_gpu"
   ]
  },
  {
   "cell_type": "markdown",
   "metadata": {},
   "source": [
    "# 2. Deep Learning Solution"
   ]
  },
  {
   "cell_type": "code",
   "execution_count": null,
   "metadata": {},
   "outputs": [],
   "source": [
    "# Hyperparameters\n",
    "device = choose_gpu()\n",
    "model_DL = {}"
   ]
  },
  {
   "cell_type": "markdown",
   "metadata": {},
   "source": [
    "## 2.1 DeepSimulate"
   ]
  },
  {
   "cell_type": "code",
   "execution_count": null,
   "metadata": {},
   "outputs": [],
   "source": [
    "# DeepSimulate\n",
    "K_time = 1.0\n",
    "model_DL['DeepSimulate'] = HumanCapitalModelClass(algoname='DeepSimulate', device=device,train={'K_time': K_time})\n",
    "model_DL['DeepSimulate'].solve(do_print=True)"
   ]
  },
  {
   "cell_type": "markdown",
   "metadata": {},
   "source": [
    "## 2.2 DeepVPD"
   ]
  },
  {
   "cell_type": "code",
   "execution_count": null,
   "metadata": {},
   "outputs": [],
   "source": [
    "# Deep VPD\n",
    "K_time = 3.0\n",
    "model_DL['DeepVPD'] = HumanCapitalModelClass(algoname='DeepVPD', device=device,train={'K_time': K_time})\n",
    "model_DL['DeepVPD'].solve(do_print=True)"
   ]
  },
  {
   "cell_type": "markdown",
   "metadata": {},
   "source": [
    "## 2.3 DeepFOC"
   ]
  },
  {
   "cell_type": "code",
   "execution_count": null,
   "metadata": {},
   "outputs": [],
   "source": [
    "# Deep FOC\n",
    "model_DL['DeepFOC_KKT'] = HumanCapitalModelClass(algoname='DeepFOC', device=device, par = {'KKT':True},train={'K_time': K_time})\n",
    "model_DL['DeepFOC_KKT'].solve(do_print=True)"
   ]
  },
  {
   "cell_type": "markdown",
   "metadata": {},
   "source": [
    "# 4. Simulations"
   ]
  },
  {
   "cell_type": "markdown",
   "metadata": {},
   "source": [
    "## 4.1 Life cycle comparisons"
   ]
  },
  {
   "cell_type": "code",
   "execution_count": null,
   "metadata": {},
   "outputs": [],
   "source": [
    "\n",
    "##############################\n",
    "# Life cycle comparison plot #\n",
    "##############################\n",
    "\n",
    "figs, axes = plt.subplots(2, 2, figsize=(16, 9))\n",
    "\n",
    "# DL models to loop over\n",
    "\n",
    "# Titles and data indices for each subplot\n",
    "titles = ['Assets', 'Consumption', 'Labor', 'human capital']\n",
    "\n",
    "# Loop over DL models\n",
    "for model_key, label in model_DL.items():\n",
    "    axes[0,0].plot(np.mean(model_DL[model_key].sim.states[:, :, 0].cpu().numpy(), axis=1), label=model_key, lw =2)\n",
    "    axes[0,1].plot(np.mean(model_DL[model_key].sim.outcomes[:, :, 0].cpu().numpy(), axis=1), lw = 2)\n",
    "    axes[1,0].plot(np.mean(model_DL[model_key].sim.outcomes[:, :, 1].cpu().numpy(), axis=1), lw = 2)\n",
    "    axes[1,1].plot(np.mean(model_DL[model_key].sim.states[:, :, 2].cpu().numpy(), axis=1), lw = 2)\n",
    "\n",
    "axes[0,0].legend()\n",
    "axes[0,0].set_title('Assets')\n",
    "axes[0,1].set_title('Consumption')\n",
    "axes[1,0].set_title('Labor')\n",
    "axes[1,1].set_title('Human Capital')\n",
    "\n",
    "\n",
    "plt.show()"
   ]
  }
 ],
 "metadata": {
  "kernelspec": {
   "display_name": "base",
   "language": "python",
   "name": "python3"
  },
  "language_info": {
   "codemirror_mode": {
    "name": "ipython",
    "version": 3
   },
   "file_extension": ".py",
   "mimetype": "text/x-python",
   "name": "python",
   "nbconvert_exporter": "python",
   "pygments_lexer": "ipython3",
   "version": "3.11.4"
  }
 },
 "nbformat": 4,
 "nbformat_minor": 2
}
