{
 "cells": [
  {
   "cell_type": "markdown",
   "metadata": {},
   "source": [
    "# Multiple GPUs"
   ]
  },
  {
   "cell_type": "markdown",
   "metadata": {},
   "source": [
    "## Imports"
   ]
  },
  {
   "cell_type": "code",
   "execution_count": null,
   "metadata": {
    "tags": []
   },
   "outputs": [],
   "source": [
    "%load_ext autoreload\n",
    "%autoreload 2"
   ]
  },
  {
   "cell_type": "code",
   "execution_count": null,
   "metadata": {
    "tags": []
   },
   "outputs": [],
   "source": [
    "import os\n",
    "import time\n",
    "import numpy as np\n",
    "import torch"
   ]
  },
  {
   "cell_type": "code",
   "execution_count": null,
   "metadata": {},
   "outputs": [],
   "source": [
    "from EconDLSolvers import choose_gpu"
   ]
  },
  {
   "cell_type": "code",
   "execution_count": null,
   "metadata": {
    "tags": []
   },
   "outputs": [],
   "source": [
    "from BufferStockModel import BufferStockModelClass"
   ]
  },
  {
   "cell_type": "markdown",
   "metadata": {},
   "source": [
    "## Setup"
   ]
  },
  {
   "cell_type": "code",
   "execution_count": null,
   "metadata": {
    "tags": [
     "parameters"
    ]
   },
   "outputs": [],
   "source": [
    "device = 0\n",
    "K = 5000\n",
    "K_time = 1.0"
   ]
  },
  {
   "cell_type": "markdown",
   "metadata": {},
   "source": [
    "## Run"
   ]
  },
  {
   "cell_type": "markdown",
   "metadata": {},
   "source": [
    "**Note:** Bigger neural net for more precise test."
   ]
  },
  {
   "cell_type": "code",
   "execution_count": null,
   "metadata": {
    "tags": []
   },
   "outputs": [],
   "source": [
    "algonames = ['DeepSimulate','DeepFOC','DeepVPD']\n",
    "for algoname in algonames: \n",
    "    \n",
    "    # settings\n",
    "    train_multiple = {'K':K,'epoch_termination':False,'K_time':K_time}\n",
    "    train_baseline = {'K':K,'K_time':K_time}\n",
    "            \n",
    "    for train_ in [train_multiple,train_baseline]:\n",
    "        train_['Nneurons_policy'] = np.array([1000,1000]) \n",
    "        if algoname == 'DeepVPD': train_['Nneurons_value'] = np.array([1000,1000]) \n",
    "    \n",
    "    \n",
    "    print('###')\n",
    "    print(f'### {algoname}')\n",
    "    print('###')\n",
    "    print('')\n",
    "    \n",
    "    print('multiple GPUs:')\n",
    "    model = BufferStockModelClass(algoname=algoname,device=device,par={'Nstates_fixed':0},train=train_multiple)\n",
    "    \n",
    "    model.solve_DDP(do_print=True)\n",
    "    time_loop = model.info['time.loop']/60\n",
    "    print(f'After start-up: {time_loop:.1f} mins')\n",
    "    print('')\n",
    "    \n",
    "    print('baseline:')\n",
    "    model = BufferStockModelClass(algoname=algoname,device=device,par={'Nstates_fixed':0},train=train_baseline)\n",
    "    model.solve(do_print=True)\n",
    "    print('')    \n",
    "    "
   ]
  }
 ],
 "metadata": {
  "kernelspec": {
   "display_name": "base",
   "language": "python",
   "name": "python3"
  },
  "language_info": {
   "codemirror_mode": {
    "name": "ipython",
    "version": 3
   },
   "file_extension": ".py",
   "mimetype": "text/x-python",
   "name": "python",
   "nbconvert_exporter": "python",
   "pygments_lexer": "ipython3",
   "version": "3.11.5"
  }
 },
 "nbformat": 4,
 "nbformat_minor": 4
}
