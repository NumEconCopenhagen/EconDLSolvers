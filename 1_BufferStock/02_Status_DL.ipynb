{
 "cells": [
  {
   "cell_type": "markdown",
   "metadata": {},
   "source": [
    "# Status"
   ]
  },
  {
   "cell_type": "markdown",
   "metadata": {},
   "source": [
    "**Table of contents**<a id='toc0_'></a>    \n",
    "- 1. [Imports](#toc1_)    \n",
    "- 2. [Setup](#toc2_)    \n",
    "- 3. [Run](#toc3_)    \n",
    "- 4. [Settings](#toc4_)    \n",
    "- 5. [DeepSimulate](#toc5_)    \n",
    "- 6. [DeepFOC](#toc6_)    \n",
    "  - 6.1. [KKT](#toc6_1_)    \n",
    "  - 6.2. [Predict consumption](#toc6_2_)    \n",
    "  - 6.3. [Input scaling](#toc6_3_)    \n",
    "- 7. [DeepVPD](#toc7_)    \n",
    "  - 7.1. [Analytical FOC](#toc7_1_)    \n",
    "  - 7.2. [Input scaling](#toc7_2_)    \n",
    "- 8. [DeepQ](#toc8_)    \n",
    "  - 8.1. [DoubleQ](#toc8_1_)    \n",
    "  - 8.2. [Input scaling](#toc8_2_)    \n",
    "\n",
    "<!-- vscode-jupyter-toc-config\n",
    "\tnumbering=true\n",
    "\tanchor=true\n",
    "\tflat=false\n",
    "\tminLevel=2\n",
    "\tmaxLevel=6\n",
    "\t/vscode-jupyter-toc-config -->\n",
    "<!-- THIS CELL WILL BE REPLACED ON TOC UPDATE. DO NOT WRITE YOUR TEXT IN THIS CELL -->"
   ]
  },
  {
   "cell_type": "markdown",
   "metadata": {},
   "source": [
    "## 1. <a id='toc1_'></a>[Imports](#toc0_)"
   ]
  },
  {
   "cell_type": "code",
   "execution_count": null,
   "metadata": {},
   "outputs": [],
   "source": [
    "%load_ext autoreload\n",
    "%autoreload 2"
   ]
  },
  {
   "cell_type": "code",
   "execution_count": 10,
   "metadata": {
    "tags": []
   },
   "outputs": [],
   "source": [
    "import pandas as pd"
   ]
  },
  {
   "cell_type": "code",
   "execution_count": 11,
   "metadata": {
    "tags": []
   },
   "outputs": [],
   "source": [
    "from BufferStockModel import BufferStockModelClass"
   ]
  },
  {
   "cell_type": "code",
   "execution_count": 12,
   "metadata": {},
   "outputs": [],
   "source": [
    "from EconDLSolvers import choose_gpu"
   ]
  },
  {
   "cell_type": "markdown",
   "metadata": {},
   "source": [
    "## 2. <a id='toc2_'></a>[Setup](#toc0_)"
   ]
  },
  {
   "cell_type": "code",
   "execution_count": null,
   "metadata": {},
   "outputs": [],
   "source": [
    "device = choose_gpu()\n",
    "K = 1"
   ]
  },
  {
   "cell_type": "markdown",
   "metadata": {},
   "source": [
    "## 3. <a id='toc3_'></a>[Run](#toc0_)"
   ]
  },
  {
   "cell_type": "code",
   "execution_count": null,
   "metadata": {},
   "outputs": [],
   "source": [
    "for algoname in ['DeepSimulate','DeepFOC','DeepV','DeepVPD','DeepQ']:\n",
    "    \n",
    "    print(f'### {algoname} ###')\n",
    "\n",
    "    model = BufferStockModelClass(algoname=algoname,device=device,\n",
    "                                  par={'Nstates_fixed':0},train={'K':K,'start_train_policy':-1})\n",
    "    model.solve(do_print=True)\n",
    "        \n",
    "    print('')"
   ]
  },
  {
   "cell_type": "markdown",
   "metadata": {},
   "source": [
    "## 5. <a id='toc5_'></a>[DeepSimulate](#toc0_)"
   ]
  },
  {
   "cell_type": "code",
   "execution_count": 15,
   "metadata": {},
   "outputs": [],
   "source": [
    "algoname = 'DeepSimulate'"
   ]
  },
  {
   "cell_type": "code",
   "execution_count": null,
   "metadata": {},
   "outputs": [],
   "source": [
    "model = BufferStockModelClass(algoname=algoname,device=device,\n",
    "                              par={'Nstates_fixed':0},\n",
    "                              train={'K':K,'start_train_policy':-1,'use_input_scaling':True})\n",
    "model.solve(do_print=True)"
   ]
  },
  {
   "cell_type": "markdown",
   "metadata": {},
   "source": [
    "## 6. <a id='toc6_'></a>[DeepFOC](#toc0_)"
   ]
  },
  {
   "cell_type": "code",
   "execution_count": 17,
   "metadata": {},
   "outputs": [],
   "source": [
    "algoname = 'DeepFOC'"
   ]
  },
  {
   "cell_type": "markdown",
   "metadata": {},
   "source": [
    "### 6.1. <a id='toc6_1_'></a>[KKT](#toc0_)"
   ]
  },
  {
   "cell_type": "code",
   "execution_count": null,
   "metadata": {},
   "outputs": [],
   "source": [
    "model = BufferStockModelClass(algoname=algoname,device=device,\n",
    "                              par={'Nstates_fixed':0,'KKT':True},\n",
    "                              train={'K':K,'start_train_policy':-1})\n",
    "model.solve(do_print=True)"
   ]
  },
  {
   "cell_type": "markdown",
   "metadata": {},
   "source": [
    "### 6.2. <a id='toc6_2_'></a>[Predict consumption](#toc0_)"
   ]
  },
  {
   "cell_type": "code",
   "execution_count": null,
   "metadata": {},
   "outputs": [],
   "source": [
    "model = BufferStockModelClass(algoname=algoname,device=device,\n",
    "                              par={'Nstates_fixed':0,'policy_predict':'consumption'},\n",
    "                              train={'K':K,'start_train_policy':-1})\n",
    "model.solve(do_print=True)"
   ]
  },
  {
   "cell_type": "markdown",
   "metadata": {},
   "source": [
    "### 6.3. <a id='toc6_3_'></a>[Input scaling](#toc0_)"
   ]
  },
  {
   "cell_type": "code",
   "execution_count": null,
   "metadata": {},
   "outputs": [],
   "source": [
    "model = BufferStockModelClass(algoname=algoname,device=device,\n",
    "                              par={'Nstates_fixed':0},\n",
    "                              train={'K':K,'start_train_policy':-1,'use_input_scaling':True})\n",
    "model.solve(do_print=True)"
   ]
  },
  {
   "cell_type": "markdown",
   "metadata": {},
   "source": [
    "## 7. <a id='toc7_'></a>[DeepVPD](#toc0_)"
   ]
  },
  {
   "cell_type": "code",
   "execution_count": 21,
   "metadata": {},
   "outputs": [],
   "source": [
    "algoname = 'DeepVPD'"
   ]
  },
  {
   "cell_type": "markdown",
   "metadata": {},
   "source": [
    "### 7.1. <a id='toc7_1_'></a>[Analytical FOC](#toc0_)"
   ]
  },
  {
   "cell_type": "code",
   "execution_count": null,
   "metadata": {},
   "outputs": [],
   "source": [
    "model = BufferStockModelClass(algoname=algoname,device=device,\n",
    "                              par={'Nstates_fixed':0},\n",
    "                              train={'K':K,'start_train_policy':-1,'use_FOC':True})\n",
    "model.solve(do_print=True)"
   ]
  },
  {
   "cell_type": "markdown",
   "metadata": {},
   "source": [
    "### 7.2. <a id='toc7_2_'></a>[Input scaling](#toc0_)"
   ]
  },
  {
   "cell_type": "code",
   "execution_count": null,
   "metadata": {},
   "outputs": [],
   "source": [
    "model = BufferStockModelClass(algoname=algoname,device=device,\n",
    "                              par={'Nstates_fixed':0,'KKT':True},\n",
    "                              train={'K':K,'start_train_policy':-1,'use_input_scaling':True})\n",
    "model.solve(do_print=True)"
   ]
  },
  {
   "cell_type": "markdown",
   "metadata": {},
   "source": [
    "## 8. <a id='toc8_'></a>[DeepQ](#toc0_)"
   ]
  },
  {
   "cell_type": "code",
   "execution_count": 24,
   "metadata": {},
   "outputs": [],
   "source": [
    "algoname = 'DeepQ'"
   ]
  },
  {
   "cell_type": "markdown",
   "metadata": {},
   "source": [
    "### 8.1. <a id='toc8_1_'></a>[DoubleQ](#toc0_)"
   ]
  },
  {
   "cell_type": "code",
   "execution_count": null,
   "metadata": {},
   "outputs": [],
   "source": [
    "model = BufferStockModelClass(algoname=algoname,device=device,\n",
    "                              par={'Nstates_fixed':0},\n",
    "                              train={'K':K,'start_train_policy':-1,'DoubleQ':True})\n",
    "model.solve(do_print=True)"
   ]
  },
  {
   "cell_type": "markdown",
   "metadata": {},
   "source": [
    "### 8.2. <a id='toc8_2_'></a>[Input scaling](#toc0_)"
   ]
  },
  {
   "cell_type": "code",
   "execution_count": null,
   "metadata": {
    "tags": []
   },
   "outputs": [],
   "source": [
    "model = BufferStockModelClass(algoname=algoname,device=device,\n",
    "                              par={'Nstates_fixed':0},\n",
    "                              train={'K':K,'start_train_policy':-1,'use_input_scaling':True})\n",
    "model.solve(do_print=True)"
   ]
  }
 ],
 "metadata": {
  "kernelspec": {
   "display_name": "base",
   "language": "python",
   "name": "python3"
  },
  "language_info": {
   "codemirror_mode": {
    "name": "ipython",
    "version": 3
   },
   "file_extension": ".py",
   "mimetype": "text/x-python",
   "name": "python",
   "nbconvert_exporter": "python",
   "pygments_lexer": "ipython3",
   "version": "3.11.5"
  }
 },
 "nbformat": 4,
 "nbformat_minor": 4
}
