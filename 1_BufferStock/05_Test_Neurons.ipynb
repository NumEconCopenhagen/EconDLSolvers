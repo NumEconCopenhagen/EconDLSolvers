{
 "cells": [
  {
   "cell_type": "markdown",
   "metadata": {},
   "source": [
    "# Test Neurons"
   ]
  },
  {
   "cell_type": "markdown",
   "metadata": {},
   "source": [
    "## 1. <a id='toc1_'></a>[Imports](#toc0_)"
   ]
  },
  {
   "cell_type": "code",
   "execution_count": null,
   "metadata": {
    "tags": []
   },
   "outputs": [],
   "source": [
    "%load_ext autoreload\n",
    "%autoreload 2"
   ]
  },
  {
   "cell_type": "code",
   "execution_count": 31,
   "metadata": {
    "tags": []
   },
   "outputs": [],
   "source": [
    "# %load_ext line_profiler"
   ]
  },
  {
   "cell_type": "code",
   "execution_count": 32,
   "metadata": {
    "tags": []
   },
   "outputs": [],
   "source": [
    "import os\n",
    "import numpy as np\n",
    "import torch\n",
    "import pandas as pd"
   ]
  },
  {
   "cell_type": "code",
   "execution_count": 33,
   "metadata": {},
   "outputs": [],
   "source": [
    "import matplotlib.pyplot as plt\n",
    "import seaborn as sns\n",
    "colors = plt.rcParams['axes.prop_cycle'].by_key()['color']\n",
    "plt.rcParams.update({\"axes.grid\" : True, \"grid.color\": \"black\", \"grid.alpha\":\"0.25\", \"grid.linestyle\": \"--\"})\n",
    "plt.rcParams.update({'font.size': 14})"
   ]
  },
  {
   "cell_type": "code",
   "execution_count": 34,
   "metadata": {
    "tags": []
   },
   "outputs": [],
   "source": [
    "from EconDLSolvers import choose_gpu"
   ]
  },
  {
   "cell_type": "code",
   "execution_count": 35,
   "metadata": {},
   "outputs": [],
   "source": [
    "from BufferStockModel import BufferStockModelClass"
   ]
  },
  {
   "cell_type": "markdown",
   "metadata": {},
   "source": [
    "## 2. <a id='toc2_'></a>[Setup](#toc0_)"
   ]
  },
  {
   "cell_type": "code",
   "execution_count": null,
   "metadata": {},
   "outputs": [],
   "source": [
    "device = choose_gpu()"
   ]
  },
  {
   "cell_type": "code",
   "execution_count": 37,
   "metadata": {},
   "outputs": [],
   "source": [
    "algonames = [\"DeepSimulate\", \"DeepFOC\", \"DeepVPD\"]\n",
    "# algonames = [\"DeepVPD\"]\n",
    "NNeurons = [250, 750, 1250]\n",
    "layers = [2,4,6]\n",
    "\n",
    "# max time or max iteration\n",
    "terminate = \"iteration\"  # \"itertion\" or \"time\"\n",
    "maxtime = 0.3 #in minutes\n",
    "maxiter = 2"
   ]
  },
  {
   "cell_type": "code",
   "execution_count": null,
   "metadata": {},
   "outputs": [],
   "source": [
    "\n",
    "\n",
    "results = []\n",
    "\n",
    "for algo in algonames:\n",
    "    print(f'Running algo {algo}')\n",
    "    for NNeuron in NNeurons:\n",
    "        print(f'Using {NNeuron} Neurons')      \n",
    "        for layer in layers:\n",
    "            print(f'Using {layer} layers')\n",
    "\n",
    "            # Set neurons and layers\n",
    "            neurons = np.array([NNeuron]*layer)\n",
    "\n",
    "            # load model\n",
    "            if terminate == \"iteration\":\n",
    "                model = BufferStockModelClass(\n",
    "                    algoname=algo,\n",
    "                    device=device,\n",
    "                    train={'K': maxiter, 'K_time': np.inf, 'Nneurons_policy': neurons, 'Nneurons_value': neurons,'epoch_policy_min':100,'Nepochs_policy':100,'epoch_value_min':100,'Nepochs_value':100,'start_train_policy':-1},\n",
    "                    show_memory=False\n",
    "                )\n",
    "            elif terminate == \"time\":\n",
    "                model = BufferStockModelClass(\n",
    "                    algoname=algo,\n",
    "                    device=device,\n",
    "                    train={'K': np.inf, 'K_time': maxtime, 'Nneurons_policy': neurons, 'Nneurons_value': neurons,'epoch_policy_min':100,'Nepochs_policy':100,'epoch_value_min':100,'Nepochs_value':100,'start_train_policy':-1},\n",
    "                    show_memory=False\n",
    "                )\n",
    "\n",
    "            # Solve the model\n",
    "            model.solve()\n",
    "\n",
    "            # gather results\n",
    "            iteration = model.info['iter']\n",
    "            elapsed_time = model.info['time']\n",
    "            elapsed_time_iter1 = model.info[('update_time',0)]\n",
    "            elapsed_time_iter2 = model.info[('update_time',1)]\n",
    "            time_train_value = model.info['time.update_NN.train_value']\n",
    "            time_train_policy = model.info['time.update_NN.train_policy']\n",
    "            time_sim_R = model.info['time.simulate_R']\n",
    "            R = model.info['R']\n",
    "            Nparams = sum([np.prod(v.size()) for v in model.policy_NN.parameters()])\n",
    "\n",
    "            results.append({\n",
    "                'Algorithm': algo,\n",
    "                'NNeurons': NNeuron,\n",
    "                'Layers': layer,\n",
    "                'Nparams': Nparams,\n",
    "                'Iterations': iteration,\n",
    "                'Total Time': elapsed_time,\n",
    "                'Time spent on 1. iter': elapsed_time_iter1,\n",
    "                'Time spent on 2. iter': elapsed_time_iter2,\n",
    "            })\n",
    "\n",
    "# Convert results to a DataFrame\n",
    "df = pd.DataFrame(results)\n",
    "\n",
    "df"
   ]
  },
  {
   "cell_type": "code",
   "execution_count": null,
   "metadata": {},
   "outputs": [],
   "source": [
    "df"
   ]
  },
  {
   "cell_type": "code",
   "execution_count": null,
   "metadata": {},
   "outputs": [],
   "source": [
    "# Get time per iteration\n",
    "# df[\"Time per Iter\"] = df[\"Total Time\"] / df[\"Iterations\"]\n",
    "\n",
    "for algo in algonames:\n",
    "    # Get data\n",
    "    subset = df[df[\"Algorithm\"] == algo]\n",
    "\n",
    "    # Create figure and subplots\n",
    "    fig, axes = plt.subplots(1, 2, figsize=(14, 6))\n",
    "\n",
    "    # Plot Time per Iteration vs NNeurons for each number of layers\n",
    "    sns.lineplot(\n",
    "        data=subset, \n",
    "        x=\"NNeurons\", \n",
    "        y=\"Time spent on 1. iter\", \n",
    "        hue=\"Layers\", \n",
    "        marker=\"o\",\n",
    "        ax=axes[0]\n",
    "    )\n",
    "    axes[0].set_title(f\"Time per Iteration vs NNeurons for {algo}\")\n",
    "    axes[0].set_xlabel(\"NNeurons\")\n",
    "    axes[0].set_ylabel(\"Time per Iteration\")\n",
    "    axes[0].legend(title=\"Layers\")\n",
    "    axes[0].grid(True)\n",
    "\n",
    "    # Plot Time per Iteration vs Nparams\n",
    "    sns.lineplot(\n",
    "        data=subset, \n",
    "        x=\"Nparams\", \n",
    "        y=\"Time spent on 1. iter\", \n",
    "        marker=\"o\",\n",
    "        ax=axes[1]\n",
    "    )\n",
    "    axes[1].set_title(f\"Time per Iteration vs Nparams for {algo}\")\n",
    "    axes[1].set_xlabel(\"Number of Parameters (Nparams)\")\n",
    "    axes[1].set_ylabel(\"Time per Iteration\")\n",
    "    axes[1].grid(True)\n",
    "\n",
    "    plt.tight_layout()\n",
    "    plt.show()\n"
   ]
  },
  {
   "cell_type": "code",
   "execution_count": null,
   "metadata": {},
   "outputs": [],
   "source": []
  }
 ],
 "metadata": {
  "kernelspec": {
   "display_name": "base",
   "language": "python",
   "name": "python3"
  },
  "language_info": {
   "codemirror_mode": {
    "name": "ipython",
    "version": 3
   },
   "file_extension": ".py",
   "mimetype": "text/x-python",
   "name": "python",
   "nbconvert_exporter": "python",
   "pygments_lexer": "ipython3",
   "version": "3.11.5"
  },
  "toc-autonumbering": true
 },
 "nbformat": 4,
 "nbformat_minor": 4
}
