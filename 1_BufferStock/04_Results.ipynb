{
 "cells": [
  {
   "cell_type": "markdown",
   "metadata": {},
   "source": [
    "**Table of contents**<a id='toc0_'></a>    \n",
    "- 1. [Imports](#toc1_)    \n",
    "- 2. [Load Data                  ](#toc2_)    \n",
    "  - 2.1. [Hyperparameters](#toc2_1_)    \n",
    "- 3. [Life cycle income](#toc3_)    \n",
    "- 4. [Convergence](#toc4_)    \n",
    "- 5. [Solution comparisons                  ](#toc5_)    \n",
    "  - 5.1. [Policy function                  ](#toc5_1_)    \n",
    "  - 5.2. [Exploration](#toc5_2_)    \n",
    "  - 5.3. [Life cycle profiles                  ](#toc5_3_)    \n",
    "    - 5.3.1. [Cash-on-hand](#toc5_3_1_)    \n",
    "    - 5.3.2. [MPCs](#toc5_3_2_)    \n",
    "  - 5.4. [CDFs of cash-on-hand                  ](#toc5_4_)    \n",
    "  - 5.5. [Transfer](#toc5_5_)    \n",
    "- 6. [Speed-of-convergence](#toc6_)    \n",
    "  - 6.1. [DeepV-PD++](#toc6_1_)    \n",
    "  - 6.2. [DeepV and DeepQ](#toc6_2_)    \n",
    "  - 6.3. [Exploration](#toc6_3_)    \n",
    "  - 6.4. [Number of neurons](#toc6_4_)    \n",
    "  - 6.5. [FOC](#toc6_5_)    \n",
    "  - 6.6. [Averaging](#toc6_6_)    \n",
    "  - 6.7. [Float 64](#toc6_7_)    \n",
    "- 7. [Euler Errors                  ](#toc7_)    \n",
    "- 8. [Table](#toc8_)    \n",
    "  - 8.1. [More on DeepVPD](#toc8_1_)    \n",
    "\n",
    "<!-- vscode-jupyter-toc-config\n",
    "\tnumbering=true\n",
    "\tanchor=true\n",
    "\tflat=false\n",
    "\tminLevel=2\n",
    "\tmaxLevel=6\n",
    "\t/vscode-jupyter-toc-config -->\n",
    "<!-- THIS CELL WILL BE REPLACED ON TOC UPDATE. DO NOT WRITE YOUR TEXT IN THIS CELL -->"
   ]
  },
  {
   "cell_type": "markdown",
   "metadata": {},
   "source": [
    "## 1. <a id='toc1_'></a>[Imports](#toc0_)"
   ]
  },
  {
   "cell_type": "code",
   "execution_count": null,
   "metadata": {},
   "outputs": [],
   "source": [
    "%load_ext autoreload\n",
    "%autoreload 2"
   ]
  },
  {
   "cell_type": "code",
   "execution_count": 41,
   "metadata": {},
   "outputs": [],
   "source": [
    "import os\n",
    "os.environ['KMP_DUPLICATE_LIB_OK'] = 'TRUE' # without this python may crash when plotting from matplotlib\n",
    "import sys\n",
    "\n",
    "from IPython.display import display, HTML\n",
    "\n",
    "import numpy as np\n",
    "import pandas as pd\n",
    "\n",
    "import matplotlib.pyplot as plt\n",
    "colors = plt.rcParams['axes.prop_cycle'].by_key()['color']\n",
    "plt.rcParams.update({\"axes.grid\":True,\"grid.color\": \"black\",\"grid.alpha\":\"0.25\",\"grid.linestyle\": \"--\"})\n",
    "plt.rcParams.update({'font.size':14})\n",
    "plt.rcParams.update({'font.family':'serif'})\n",
    "import matplotlib.lines as mlines\n",
    "import matplotlib"
   ]
  },
  {
   "cell_type": "code",
   "execution_count": 42,
   "metadata": {},
   "outputs": [],
   "source": [
    "import EconDLSolvers"
   ]
  },
  {
   "cell_type": "code",
   "execution_count": 43,
   "metadata": {},
   "outputs": [],
   "source": [
    "parent_directory = os.path.abspath('..')\n",
    "sys.path.append(parent_directory)\n",
    "from plot_funcs import load_all, train_specs, compute_transfer, transfer_plot, convergence_plot"
   ]
  },
  {
   "cell_type": "markdown",
   "metadata": {},
   "source": [
    "## 2. <a id='toc2_'></a>[Load Data](#toc2_)                   [&#8593;](#toc0_)"
   ]
  },
  {
   "cell_type": "code",
   "execution_count": 44,
   "metadata": {},
   "outputs": [],
   "source": [
    "folder_load = '../output/'\n",
    "folder = '../output/results'\n",
    "algonames = ['DeepSimulate','DeepFOC','DeepVPD'] \n",
    "Ds = [0,3]\n",
    "full = True # if False only selected figures are produced"
   ]
  },
  {
   "cell_type": "code",
   "execution_count": 45,
   "metadata": {},
   "outputs": [],
   "source": [
    "algolabels = {\n",
    "    'DeepSimulate':'DeepSimulate',\n",
    "    'DeepFOC':'DeepFOC',\n",
    "    'DeepVPD':'DeepVPD',\n",
    "    'DeepVPD_NNs3':'DeepVPD-NNs3',\n",
    "    'DeepVPD_FOC':'DeepVPD-FOC',\n",
    "    'DeepVPD_NNs3FOC':'DeepVPD++',\n",
    "}"
   ]
  },
  {
   "cell_type": "code",
   "execution_count": null,
   "metadata": {},
   "outputs": [],
   "source": [
    "'DeepVPD_NNs3FOC'.split('_')[0]"
   ]
  },
  {
   "cell_type": "code",
   "execution_count": null,
   "metadata": {},
   "outputs": [],
   "source": []
  },
  {
   "cell_type": "code",
   "execution_count": 47,
   "metadata": {},
   "outputs": [],
   "source": [
    "def get_model(models,algoname,D):\n",
    "\n",
    "    if len(algoname.split('_')) == 2:\n",
    "        key = (algoname.split('_')[0],f'{D}D',algoname.split('_')[1])\n",
    "    else:\n",
    "        key = (algoname,f'{D}D')\n",
    "                     \n",
    "    if key in models:\n",
    "        return models[key]\n",
    "    else:\n",
    "        return None"
   ]
  },
  {
   "cell_type": "code",
   "execution_count": null,
   "metadata": {},
   "outputs": [],
   "source": [
    "models = load_all(folder_load,'BufferStockModel')"
   ]
  },
  {
   "cell_type": "markdown",
   "metadata": {},
   "source": [
    "### 2.1. <a id='toc2_1_'></a>[Hyperparameters](#toc0_)"
   ]
  },
  {
   "cell_type": "code",
   "execution_count": 49,
   "metadata": {},
   "outputs": [],
   "source": [
    "do_display = False"
   ]
  },
  {
   "cell_type": "code",
   "execution_count": null,
   "metadata": {},
   "outputs": [],
   "source": [
    "for D in Ds:\n",
    "    if do_display: print(f'D = {D}')\n",
    "    models_ = {k:v for k,v in models.items() if int(k[1][0]) == D and len(k) == 2 and not k[0] in ['DeepV','DeepQ']}\n",
    "    train_specs(models_,do_display=do_display,folder=folder,filename=f'BufferStockModel_train_specs_{D}D')"
   ]
  },
  {
   "cell_type": "code",
   "execution_count": null,
   "metadata": {},
   "outputs": [],
   "source": [
    "for D in Ds:\n",
    "    if do_display: print(f'D = {D}')\n",
    "    models_ = {k:v for k,v in models.items() if int(k[1][0]) == D and len(k) == 2 and k[0] in ['DeepV','DeepQ']}\n",
    "    train_specs(models_,do_display=False,folder=folder,filename=f'BufferStockModel_train_specs_{D}D_VQ')"
   ]
  },
  {
   "cell_type": "code",
   "execution_count": null,
   "metadata": {},
   "outputs": [],
   "source": [
    "for D in Ds:\n",
    "    if do_display: print(f'D = {D}')\n",
    "    models_ = {k:v for k,v in models.items() if int(k[1][0]) == D and len(k) == 3}\n",
    "    train_specs(models_,do_display=False,folder=folder,filename=f'BufferStockModel_train_specs_{D}D_misc')"
   ]
  },
  {
   "cell_type": "markdown",
   "metadata": {},
   "source": [
    "## 3. <a id='toc3_'></a>[Life cycle income](#toc0_)"
   ]
  },
  {
   "cell_type": "code",
   "execution_count": 53,
   "metadata": {},
   "outputs": [],
   "source": [
    "model = models[('DP','0D')]"
   ]
  },
  {
   "cell_type": "code",
   "execution_count": null,
   "metadata": {},
   "outputs": [],
   "source": [
    "fig, ax = plt.subplots(1,1,figsize=(6,3))\n",
    "\n",
    "ax.plot(model.par.kappa)\n",
    "\n",
    "ax.set_xlabel('period $t$')\n",
    "ax.set_ylabel('$\\\\kappa_t$')\n",
    "\n",
    "filepath = f\"{folder}/BufferStockModel_kappa.svg\"\n",
    "plt.savefig(filepath, bbox_inches='tight')"
   ]
  },
  {
   "cell_type": "markdown",
   "metadata": {},
   "source": [
    "## 4. <a id='toc4_'></a>[Convergence](#toc0_)"
   ]
  },
  {
   "cell_type": "code",
   "execution_count": null,
   "metadata": {},
   "outputs": [],
   "source": [
    "for D in Ds:\n",
    "    for algoname in algonames + ['DeepVPD_NNs3FOC']:\n",
    "        \n",
    "        print(f'D = {D}, algoname = {algoname}')\n",
    "        \n",
    "        model = get_model(models,algoname,D)\n",
    "        postfix = f'_BufferStockModel_{algoname}_{D}D'\n",
    "\n",
    "        EconDLSolvers.convergence_plot(model,\n",
    "                         y_fac=10_000,ylabel='transfer, bp. of initial cash-on-hand',\n",
    "                         folder=folder,postfix=postfix,close_fig=False)\n",
    "        \n",
    "        plt.show()"
   ]
  },
  {
   "cell_type": "code",
   "execution_count": null,
   "metadata": {},
   "outputs": [],
   "source": [
    "for D in [0,3]:\n",
    "        \n",
    "    model = models[('DeepFOC',f'{D}D')]\n",
    "    k_max = model.info['iter']\n",
    "\n",
    "    x = [model.info[('k_time',k)]/60 for k in range(k_max) if ('policy_loss',k) in model.info and model.info[('k_time',k)]/60 > 1]    \n",
    "    y = [model.info[('policy_loss',k)] for k in range(k_max) if ('policy_loss',k) in model.info and model.info[('k_time',k)]/60 > 1]\n",
    "\n",
    "    x_ = []\n",
    "    y_ = []\n",
    "    best_yi = np.inf\n",
    "    for xi,yi in zip(x,y):\n",
    "        if yi < best_yi:\n",
    "            x_.append(xi)\n",
    "            y_.append(yi)\n",
    "            best_yi = yi\n",
    "\n",
    "    fig, ax = plt.subplots(1,1,figsize=(6,4))\n",
    "    ax.set_title(f'DeepFOC - {D}D')\n",
    "    ax.plot(x_,y_,'-o',ms='2',color=colors[0])\n",
    "    ax.set_xlabel('time (m)')\n",
    "    ax.set_yscale('log')\n",
    "\n",
    "    fig.tight_layout()\n",
    "    fig.savefig(f'{folder}/BufferStockModel_DeepFOC_{D}D_policy_loss.svg')\n",
    "\n",
    "    plt.show()\n"
   ]
  },
  {
   "cell_type": "markdown",
   "metadata": {},
   "source": [
    "## 5. <a id='toc5_'></a>[Solution comparisons](#toc3_)                   [&#8593;](#toc0_)"
   ]
  },
  {
   "cell_type": "markdown",
   "metadata": {},
   "source": [
    "### 5.1. <a id='toc5_1_'></a>[Policy function](#toc3_1_)                   [&#8593;](#toc0_)"
   ]
  },
  {
   "cell_type": "code",
   "execution_count": 57,
   "metadata": {},
   "outputs": [],
   "source": [
    "do_display = True\n",
    "D = 0\n",
    "t = 5\n",
    "i_ps = [20,25,30]\n",
    "m_max = 7.0\n",
    "c_max = 3.0\n",
    "\n",
    "m_grid = models[('DP','0D')].egm.m_grid\n",
    "p_grid = models[('DP','0D')].egm.p_grid"
   ]
  },
  {
   "cell_type": "code",
   "execution_count": null,
   "metadata": {},
   "outputs": [],
   "source": [
    "I = m_grid < m_max\n",
    "if full:\n",
    "    algonames_ = ['DeepSimulate','DeepFOC','DeepVPD','DeepVPD_FOC','DeepVPD_NNs3','DeepVPD_NNs3FOC']\n",
    "else:\n",
    "    algonames_ = ['DeepSimulate','DeepFOC','DeepVPD','DeepVPD_NNs3FOC']\n",
    "\n",
    "for algoname in algonames_:\n",
    "    \n",
    "    print(algoname)\n",
    "    label = algolabels[algoname]\n",
    "    model = get_model(models,algoname,D)\n",
    "\n",
    "    fig = plt.figure(figsize=(9,6))\n",
    "    ax = fig.add_subplot(1,1,1)\n",
    "    for i,i_p in enumerate(i_ps):\n",
    "\n",
    "        ax.plot(m_grid[I],models[('DP','0D')].egm.sol_con[t,i_p,0,0,0,I],color=colors[i],ls='--',lw=2)\n",
    "        ax.plot(m_grid[I],model.info['sol_con_grid'][t,i_p,0,0,0,I],color=colors[i],lw=2)            \n",
    "\n",
    "    # add histogram\n",
    "    cash_in_hand = models[('DP','0D')].sim.states[t,:,0]\n",
    "    twin_ax = ax.twinx()\n",
    "    twin_ax.hist(cash_in_hand,bins=50,alpha=0.5,color='grey',density=True)\n",
    "    twin_ax.set_yticks([])\n",
    "    twin_ax.grid(False)\n",
    "\n",
    "    # misc\n",
    "    ax.set_xlim(-0.5,m_max)\n",
    "    ax.set_xlabel('cash-on-hand')\n",
    "    ax.set_ylim(0,c_max)\n",
    "    ax.set_ylabel('consumption')\n",
    "\n",
    "    # legend\n",
    "    legend_labels = [label] + ['EGM'] + ['cash-on-hand density'] + [f'p = {p_grid[i_p]:.2f}' for i_p in i_ps] \n",
    "    legend_handles = [mlines.Line2D([0], [0], color='black', lw=2, ls='-')]\n",
    "    legend_handles += [mlines.Line2D([0], [0], color='black', ls='--', lw=2)]\n",
    "    legend_handles += [matplotlib.patches.Rectangle((0,0),1,1,color='grey',alpha=0.5)] \n",
    "    legend_handles += [mlines.Line2D([0],[0],color=colors[i],ls='-',lw=2) for i in range(3)] \n",
    "    ax.legend(legend_handles,legend_labels,ncol=2,loc='upper right')\n",
    "\n",
    "    filepath = f'{folder}/BufferStockModel_policy_0D_t{t}_{algoname}.svg'\n",
    "    fig.savefig(filepath)\n",
    "\n",
    "    if do_display: \n",
    "        plt.show()\n",
    "    else:\n",
    "        plt.close(fig)\n",
    "        display(HTML(f'<a href=\"{filepath}\">{filepath}</a>'))"
   ]
  },
  {
   "cell_type": "markdown",
   "metadata": {},
   "source": [
    "### 5.2. <a id='toc5_2_'></a>[Exploration](#toc0_)"
   ]
  },
  {
   "cell_type": "code",
   "execution_count": null,
   "metadata": {},
   "outputs": [],
   "source": [
    "algoname = 'DeepFOC'\n",
    "t = 5\n",
    "i_p = 25\n",
    "m_max = 10.0\n",
    "\n",
    "fig = plt.figure(figsize=(9,6))\n",
    "ax = fig.add_subplot(1,1,1)\n",
    "\n",
    "ax.plot(m_grid,models[('DP','0D')].egm.sol_con[t,i_p,0,0,0,:],ls='--',lw=2,color='black',label='EGM')\n",
    "\n",
    "epsilon_sigma = models[(algoname,'0D')].train.epsilon_sigma[0] \n",
    "ax.plot(m_grid,models[(algoname,'0D')].info['sol_con_grid'][t,i_p,0,0,0,:],ls='-',lw=2,label=f'{algoname}, $\\\\sigma_{{\\\\epsilon}}$ = {epsilon_sigma:.2f}')  \n",
    "\n",
    "model_ = models[(algoname,'0D',f'moreexplore')]\n",
    "epsilon_sigma = model_.train.epsilon_sigma[0]\n",
    "ax.plot(m_grid,model_.info['sol_con_grid'][t,i_p,0,0,0,:],lw=2,ls='-.',label=f'DeepFOC, $\\\\sigma_{{\\\\epsilon}}$ = {epsilon_sigma:.2f}')  \n",
    "\n",
    "# add histogram\n",
    "cash_on_hand = models[('DP','0D')].sim.states[t,:,0]\n",
    "twin_ax = ax.twinx()\n",
    "twin_ax.hist(cash_on_hand,bins=50,alpha=0.5,color='grey',density=True,label='cash-on-hand (right axis)')\n",
    "twin_ax.set_ylim(0,1.0)\n",
    "twin_ax.set_yticks([])\n",
    "twin_ax.grid(False)\n",
    "\n",
    "# misc\n",
    "ax.set_xlim(-1,m_max)\n",
    "ax.set_xlabel('cash-on-hand')\n",
    "ax.set_ylim(0,c_max)\n",
    "ax.set_ylabel('consumption')\n",
    "\n",
    "ax.legend(frameon=True,ncol=1,loc='lower right')\n",
    "\n",
    "filepath = f'{folder}/BufferStockModel_policy_0D_t{t}_{algoname}_moreexplore.svg'   \n",
    "fig.savefig(filepath)\n",
    "\n",
    "if do_display: \n",
    "    plt.show()\n",
    "else:\n",
    "    plt.close(fig)\n",
    "    display(HTML(f'<a href=\"{filepath}\">{filepath}</a>'))"
   ]
  },
  {
   "cell_type": "code",
   "execution_count": null,
   "metadata": {},
   "outputs": [],
   "source": [
    "t = 5\n",
    "for key in [(algoname,'0D'),(algoname,'0D','moreexplore')]:\n",
    "    \n",
    "    model = models[key]\n",
    "    postfix = f'_{key[2]}' if len(key) == 3 else ''\n",
    "    \n",
    "    fig = plt.figure(figsize=(9,6))\n",
    "    ax = fig.add_subplot(1,1,1)\n",
    "\n",
    "    # EGM\n",
    "    ax.hist(models[('DP','0D')].sim.states[t,:,0],bins=50,alpha=0.5,color='grey',density=True,label='EGM - simulation')\n",
    "\n",
    "    # DL\n",
    "    epsilon_sigma = model.train.epsilon_sigma[0] \n",
    "    ax.hist(model.sim.states[t,:,0],bins=50,alpha=0.5,density=True,label=f'{algoname}, $\\\\sigma_{{\\\\epsilon}}$ = {epsilon_sigma:.2f} - simulation')\n",
    "    ax.hist(model.sim_eps.states[t,:,0],bins=50,alpha=0.5,density=True,label=f'{algoname}, $\\\\sigma_{{\\\\epsilon}}$ = {epsilon_sigma:.2f} - training')\n",
    "\n",
    "    # misc\n",
    "    ax.set_xlim(-0.5,8)\n",
    "    ax.set_xlabel('cash-on-hand')\n",
    "    ax.set_ylim(0,1.0)\n",
    "\n",
    "    ax.legend(frameon=True,loc='upper right')\n",
    "\n",
    "    filepath = f'{folder}/BufferStockModel_policy_0D_t{t}_{algoname}_hist{postfix}.svg'\n",
    "    fig.savefig(filepath)\n",
    "\n",
    "    if do_display: \n",
    "        plt.show()\n",
    "    else:\n",
    "        plt.close(fig)\n",
    "        display(HTML(f'<a href=\"{filepath}\">{filepath}</a>'))"
   ]
  },
  {
   "cell_type": "markdown",
   "metadata": {},
   "source": [
    "### 5.3. <a id='toc5_3_'></a>[Life cycle profiles](#toc3_2_)                   [&#8593;](#toc0_)"
   ]
  },
  {
   "cell_type": "markdown",
   "metadata": {},
   "source": [
    "#### 5.3.1. <a id='toc5_3_1_'></a>[Cash-on-hand](#toc0_)"
   ]
  },
  {
   "cell_type": "code",
   "execution_count": null,
   "metadata": {},
   "outputs": [],
   "source": [
    "# plot wide format\n",
    "for D in Ds:\n",
    "    for algoname in algonames + ['DeepVPD_NNs3FOC']:\n",
    "\n",
    "        model = get_model(models,algoname,D)\n",
    "        if model is None: continue\n",
    "        label = algolabels[algoname]\n",
    "\n",
    "        print(algoname,D)\n",
    "\n",
    "        fig = plt.figure(figsize=(18,4))\n",
    "\n",
    "        ax = fig.add_subplot(1,3,1)\n",
    "        ax.plot(np.mean(model.sim.states[:,:,0],axis=1),label=label,color=colors[0],linewidth=2)\n",
    "        ax.plot(np.mean(models[('DP',f'{D}D')].sim.states[:,:,0],axis=1),label='DP',color=colors[1],linewidth=2,ls='--')\n",
    "        ax.set_title('mean')\n",
    "        ax.set_xlabel('period, $t$')\n",
    "        ax.axvline(x=model.par.T_retired,linewidth=2, label='retirement',color='black',linestyle='--')\n",
    "        ax.legend()\n",
    "        ax.set_ylabel('cash-on-hand')\n",
    "\n",
    "        ax = fig.add_subplot(1,3,2)\n",
    "        ax.plot(np.percentile(model.sim.states[:,:,0],q=5,axis=1),color=colors[0],linewidth=2)\n",
    "        ax.plot(np.percentile(models[('DP',f'{D}D')].sim.states[:,:,0],q=5,axis=1),color=colors[1],linewidth=2,ls='--')\n",
    "        ax.set_title('5th percentile')\n",
    "        ax.set_xlabel('period,$t$')\n",
    "        ax.axvline(x=model.par.T_retired,linewidth=2, label='retirement',color='black',linestyle='--')\n",
    "        ax.set_ylabel('cash-on-hand')\n",
    "\n",
    "        ax = fig.add_subplot(1,3,3)\n",
    "        ax.plot(np.percentile(model.sim.states[:,:,0],q=95,axis=1),color=colors[0],linewidth=2)\n",
    "        ax.plot(np.percentile(models[('DP',f'{D}D')].sim.states[:,:,0],q=95,axis=1),color=colors[1],linewidth=2,ls='--')\n",
    "        ax.set_title('95th percentile')\n",
    "        ax.set_xlabel('period,$t$')\n",
    "        ax.axvline(x=model.par.T_retired,linewidth=2, label='retirement',color='black',linestyle='--')\n",
    "        ax.set_ylabel('cash-on-hand')        \n",
    "\n",
    "        fig.tight_layout()\n",
    "\n",
    "        filepath = f'{folder}/BufferStockModel_lcp_m_{D}D_{algoname}_wide.svg'\n",
    "        fig.savefig(filepath)\n",
    "\n",
    "        if do_display: \n",
    "            plt.show()\n",
    "        else:\n",
    "            plt.close(fig)\n",
    "            display(HTML(f'<a href=\"{filepath}\">{filepath}</a>'))"
   ]
  },
  {
   "cell_type": "code",
   "execution_count": null,
   "metadata": {},
   "outputs": [],
   "source": [
    "# plot long format\n",
    "for D in Ds:\n",
    "    for algoname in algonames + ['DeepVPD_NNs3FOC']:\n",
    "\n",
    "        model = get_model(models,algoname,D)\n",
    "        if model is None: continue\n",
    "        label = algolabels[algoname]\n",
    "        print(algoname,D)\n",
    "\n",
    "        fig = plt.figure(figsize=(18,15))\n",
    "\n",
    "        ax = fig.add_subplot(3,1,1)\n",
    "        ax.plot(np.mean(model.sim.states[:,:,0],axis=1),label=label,color=colors[0],linewidth=2)\n",
    "        ax.plot(np.mean(models[('DP',f'{D}D')].sim.states[:,:,0],axis=1),label='DP',color=colors[1],linewidth=2,ls='--')\n",
    "        ax.set_title('mean')\n",
    "        ax.set_xlabel('period, $t$')\n",
    "        ax.axvline(x=model.par.T_retired,linewidth=2, label='retirement',color='black',linestyle='--')\n",
    "        ax.legend()\n",
    "        ax.set_ylabel('cash-on-hand')\n",
    "\n",
    "        ax = fig.add_subplot(3,1,2)\n",
    "        ax.plot(np.percentile(model.sim.states[:,:,0],q=5,axis=1),color=colors[0],linewidth=2)\n",
    "        ax.plot(np.percentile(models[('DP',f'{D}D')].sim.states[:,:,0],q=5,axis=1),color=colors[1],linewidth=2,ls='--')\n",
    "        ax.set_title('5th percentile')\n",
    "        ax.set_xlabel('period,$t$')\n",
    "        ax.axvline(x=model.par.T_retired,linewidth=2, label='retirement',color='black',linestyle='--')\n",
    "        ax.set_ylabel('cash-on-hand')\n",
    "\n",
    "        ax = fig.add_subplot(3,1,3)\n",
    "        ax.plot(np.percentile(model.sim.states[:,:,0],q=95,axis=1),color=colors[0],linewidth=2)\n",
    "        ax.plot(np.percentile(models[('DP',f'{D}D')].sim.states[:,:,0],q=95,axis=1),color=colors[1],linewidth=2,ls='--')\n",
    "        ax.set_title('95th percentile')\n",
    "        ax.set_xlabel('period,$t$')\n",
    "        ax.axvline(x=model.par.T_retired,linewidth=2, label='retirement',color='black',linestyle='--')\n",
    "        ax.set_ylabel('cash-on-hand')        \n",
    "\n",
    "        fig.tight_layout()\n",
    "\n",
    "        filepath = f'{folder}/BufferStockModel_lcp_m_{D}D_{algoname}_long.svg'\n",
    "        fig.savefig(filepath)\n",
    "\n",
    "        plt.close(fig)\n",
    "        display(HTML(f'<a href=\"{filepath}\">{filepath}</a>'))"
   ]
  },
  {
   "cell_type": "markdown",
   "metadata": {},
   "source": [
    "#### 5.3.2. <a id='toc5_3_2_'></a>[MPCs](#toc0_)"
   ]
  },
  {
   "cell_type": "code",
   "execution_count": null,
   "metadata": {},
   "outputs": [],
   "source": [
    "for D in Ds:\n",
    "    for algoname in algonames + ['DeepVPD_NNs3FOC']:\n",
    "\n",
    "        model = get_model(models,algoname,D)\n",
    "        if model is None: continue\n",
    "        label = algolabels[algoname]\n",
    "        print(algoname,D)\n",
    "\n",
    "        fig = plt.figure(figsize=(18,4))\n",
    "\n",
    "        ax = fig.add_subplot(1,3,1)\n",
    "        ax.plot(np.mean(model.sim.MPC[:-1,:],axis=1),label=label,color=colors[0],linewidth=2)\n",
    "        ax.plot(np.mean(models[('DP',f'{D}D')].sim.MPC[:-1,:],axis=1),label='DP',color=colors[1],linewidth=2,ls='--')\n",
    "        ax.set_title('mean')\n",
    "        ax.set_xlabel('period, $t$')\n",
    "        ax.axvline(x=model.par.T_retired,linewidth=2, label='retirement',color='black',linestyle='--')\n",
    "        ax.legend()\n",
    "        ax.set_ylabel('MPC')\n",
    "\n",
    "        ax = fig.add_subplot(1,3,2)\n",
    "        ax.plot(np.percentile(model.sim.MPC[:-1,:],q=5,axis=1),color=colors[0],linewidth=2)\n",
    "        ax.plot(np.percentile(models[('DP',f'{D}D')].sim.MPC[:-1,:],q=5,axis=1),color=colors[1],linewidth=2,ls='--')\n",
    "        ax.set_title('5th percentile')\n",
    "        ax.set_xlabel('period,$t$')\n",
    "        ax.axvline(x=model.par.T_retired,linewidth=2, label='retirement',color='black',linestyle='--')\n",
    "        ax.set_ylabel('MPC')\n",
    "\n",
    "        ax = fig.add_subplot(1,3,3)\n",
    "        ax.plot(np.percentile(model.sim.MPC[:-1,:],q=95,axis=1),color=colors[0],linewidth=2)\n",
    "        ax.plot(np.percentile(models[('DP',f'{D}D')].sim.MPC[:-1,:],q=95,axis=1),color=colors[1],linewidth=2,ls='--')\n",
    "        ax.set_title('95th percentile')\n",
    "        ax.set_xlabel('period,$t$')\n",
    "        ax.axvline(x=model.par.T_retired,linewidth=2, label='retirement',color='black',linestyle='--')\n",
    "        ax.set_ylabel('MPC')        \n",
    "\n",
    "        fig.tight_layout()\n",
    "\n",
    "        filepath = f'{folder}/BufferStockModel_lcp_MPC_{D}D_{algoname}.svg'\n",
    "        fig.savefig(filepath)\n",
    "\n",
    "        if do_display: \n",
    "            plt.show()\n",
    "        else:\n",
    "            plt.close(fig)\n",
    "            display(HTML(f'<a href=\"{filepath}\">{filepath}</a>'))"
   ]
  },
  {
   "cell_type": "markdown",
   "metadata": {},
   "source": [
    "### 5.4. <a id='toc5_4_'></a>[CDFs of cash-on-hand](#toc3_3_)                   [&#8593;](#toc0_)"
   ]
  },
  {
   "cell_type": "code",
   "execution_count": 64,
   "metadata": {},
   "outputs": [],
   "source": [
    "def CDF(x):\n",
    "\n",
    "    # sort data\n",
    "    x = np.sort(x)\n",
    "    \n",
    "    # create y data\n",
    "    y = np.arange(1, len(x)+1) / len(x)\n",
    "\n",
    "    return x, y"
   ]
  },
  {
   "cell_type": "code",
   "execution_count": null,
   "metadata": {},
   "outputs": [],
   "source": [
    "for D in Ds:\n",
    "    for algoname in algonames + ['DeepVPD_NNs3FOC']:\n",
    "\n",
    "        model = get_model(models,algoname,D)\n",
    "        if model is None: continue\n",
    "        label = algolabels[algoname]\n",
    "\n",
    "        print(algoname,D)\n",
    "\n",
    "        fig = plt.figure(figsize=(18,4))\n",
    "\n",
    "        for i,t in enumerate([15,25,35]):\n",
    "                \n",
    "            ax = fig.add_subplot(1,3,1+i)\n",
    "\n",
    "            x, y = CDF(model.sim.states[t,:,0])\n",
    "    \n",
    "            ax.plot(x,y,label=label,linewidth=2)           \n",
    "                    \n",
    "            x,y = CDF(models[('DP',f'{D}D')].sim.states[t,:,0])\n",
    "        \n",
    "            ax.plot(x,y,label=f'EGM',linewidth=2,color='black',linestyle='--')\n",
    "        \n",
    "            ax.set_xlim([0,m_max])\n",
    "            ax.set_xlabel('cash-on-hand')\n",
    "            ax.set_ylabel('CDF')\n",
    "            if i ==0: ax.legend(loc='lower right')\n",
    "            ax.set_title(f't ={t}')\n",
    "\n",
    "        fig.tight_layout()\n",
    "        filepath = f'{folder}/BufferStockModel_cdf_{D}D_{algoname}.svg'\n",
    "        fig.savefig(filepath)   \n",
    "\n",
    "        if do_display: \n",
    "            plt.show()\n",
    "        else:\n",
    "            plt.close(fig)\n",
    "            display(HTML(f'<a href=\"{filepath}\">{filepath}</a>'))\n",
    "            "
   ]
  },
  {
   "cell_type": "markdown",
   "metadata": {},
   "source": [
    "### 5.5. <a id='toc5_5_'></a>[Transfer](#toc0_)"
   ]
  },
  {
   "cell_type": "code",
   "execution_count": null,
   "metadata": {},
   "outputs": [],
   "source": [
    "for D in Ds:\n",
    "    transfer_plot('BufferStockModel',models,algonames,D,folder=folder)"
   ]
  },
  {
   "cell_type": "markdown",
   "metadata": {},
   "source": [
    "## 6. <a id='toc6_'></a>[Speed-of-convergence](#toc0_)"
   ]
  },
  {
   "cell_type": "code",
   "execution_count": 67,
   "metadata": {},
   "outputs": [],
   "source": [
    "xlim = [0.1,100]\n",
    "xlim_low = [0.001,100]\n",
    "ylim = [-1000,10]"
   ]
  },
  {
   "cell_type": "code",
   "execution_count": null,
   "metadata": {},
   "outputs": [],
   "source": [
    "for D in Ds:\n",
    "    \n",
    "    Dstr = f'{D}D'\n",
    "    print(Dstr)\n",
    "\n",
    "    DP = models[('DP',Dstr)]\n",
    "    specs = {(algoname,Dstr):algoname for algoname in algonames}\n",
    "\n",
    "    convergence_plot('BufferStockModel',models,specs,DP=DP,do_transfer=True,\n",
    "                     xlim=xlim_low,ylim=ylim,\n",
    "                     folder=folder,postfix=f'_{Dstr}')"
   ]
  },
  {
   "cell_type": "markdown",
   "metadata": {},
   "source": [
    "Curse of dimensionality:"
   ]
  },
  {
   "cell_type": "code",
   "execution_count": null,
   "metadata": {},
   "outputs": [],
   "source": [
    "xlim_low = [0.001,100]\n",
    "for algoname in algonames:\n",
    "    \n",
    "    DP = {\n",
    "        ('DP',f'0D'):f'EGM - baseline',\n",
    "        ('DP',f'3D'):f'EGM - extended',\n",
    "    }\n",
    "\n",
    "    specs = {\n",
    "        (algoname,f'0D'):f'{algoname} - baseline',\n",
    "        (algoname,f'3D'):f'{algoname} - extended',\n",
    "    }\n",
    "\n",
    "    convergence_plot('BufferStockModel',models,specs,DP=DP,do_transfer=True,\n",
    "                     xlim=xlim_low,ylim=ylim,\n",
    "                     folder=folder,postfix=f'_{algoname}')  \n",
    "\n",
    "    plt.show()  "
   ]
  },
  {
   "cell_type": "markdown",
   "metadata": {},
   "source": [
    "### 6.1. <a id='toc6_1_'></a>[DeepV-PD++](#toc0_)"
   ]
  },
  {
   "cell_type": "code",
   "execution_count": null,
   "metadata": {},
   "outputs": [],
   "source": [
    "for D in Ds:\n",
    "    \n",
    "    Dstr = f'{D}D'\n",
    "    print(Dstr)\n",
    "\n",
    "    DP = models[('DP',Dstr)]\n",
    "    specs = {}\n",
    "    specs[(f'DeepVPD',Dstr)] = 'DeepVPD'\n",
    "    specs[(f'DeepVPD',Dstr,'NNs3FOC')] = 'DeepVPD++'\n",
    "\n",
    "    convergence_plot('BufferStockModel',models,specs,DP=DP,do_transfer=True,\n",
    "                     xlim=xlim_low,ylim=ylim,\n",
    "                     folder=folder,postfix=f'_{Dstr}_DeepVPD_NNs3FOC')"
   ]
  },
  {
   "cell_type": "code",
   "execution_count": null,
   "metadata": {},
   "outputs": [],
   "source": [
    "for D in Ds:\n",
    "    \n",
    "    Dstr = f'{D}D'\n",
    "    print(Dstr)\n",
    "\n",
    "    DP = models[('DP',Dstr)]\n",
    "    specs = {\n",
    "        (algoname,Dstr):algoname for algoname in algonames if not algoname == 'DeepVPD'\n",
    "    }\n",
    "    specs[(f'DeepVPD',Dstr,'NNs3FOC')] = 'DeepVPD++'\n",
    "\n",
    "    convergence_plot('BufferStockModel',models,specs,DP=DP,do_transfer=True,\n",
    "                     xlim=xlim,ylim=ylim,\n",
    "                     folder=folder,postfix=f'_{Dstr}_DeepVPD_NNs3FOC_all')"
   ]
  },
  {
   "cell_type": "markdown",
   "metadata": {},
   "source": [
    "### 6.2. <a id='toc6_2_'></a>[DeepV and DeepQ](#toc0_)"
   ]
  },
  {
   "cell_type": "code",
   "execution_count": null,
   "metadata": {},
   "outputs": [],
   "source": [
    "if full:\n",
    "    for D in [0]:\n",
    "        \n",
    "        DP = models[('DP',f'{D}D')]\n",
    "        specs = {(algoname,f'{D}D'):algoname for algoname in ['DeepV','DeepQ']}\n",
    "\n",
    "        convergence_plot('BufferStockModel',models,specs,DP=DP,do_transfer=True,\n",
    "                        xlim=xlim,ylim=ylim,\n",
    "                        folder=folder,postfix=f'_{D}D_DeepVQ')"
   ]
  },
  {
   "cell_type": "markdown",
   "metadata": {},
   "source": [
    "### 6.3. <a id='toc6_3_'></a>[Exploration](#toc0_)"
   ]
  },
  {
   "cell_type": "code",
   "execution_count": null,
   "metadata": {},
   "outputs": [],
   "source": [
    "D = 0\n",
    "algonames_ = ['DeepFOC','DeepVPD'] if full else ['DeepFOC']\n",
    "for algoname in algonames_:\n",
    "\n",
    "    Dstr = f'{D}D'\n",
    "    print(algoname,Dstr)\n",
    " \n",
    "    DP = models[('DP',Dstr)]\n",
    "    specs = {\n",
    "        (algoname,Dstr):f'{algoname}: $\\\\sigma_{{\\\\epsilon}}$ = {models[(algoname,Dstr)].train.epsilon_sigma[0]:.2f}',\n",
    "        (algoname,Dstr,'moreexplore'):f'{algoname}: $\\\\sigma_{{\\\\epsilon}}$ = {models[(algoname,Dstr,\"moreexplore\")].train.epsilon_sigma[0]:.2f}',\n",
    "    }\n",
    "\n",
    "    \n",
    "    convergence_plot('BufferStockModel',models,specs,DP=DP,do_transfer=True,\n",
    "                    xlim=xlim,ylim=ylim,legend_ncol=1,\n",
    "                    folder=folder,postfix=f'_{algoname}_{Dstr}_exploration')\n",
    "    plt.show()"
   ]
  },
  {
   "cell_type": "markdown",
   "metadata": {},
   "source": [
    "### 6.4. <a id='toc6_4_'></a>[Number of neurons](#toc0_)"
   ]
  },
  {
   "cell_type": "code",
   "execution_count": null,
   "metadata": {},
   "outputs": [],
   "source": [
    "if full:\n",
    "    for D in Ds:\n",
    "        for algoname in ['DeepVPD']:\n",
    "\n",
    "            Dstr = f'{D}D'\n",
    "            print(algoname,Dstr)\n",
    "\n",
    "            DP = models[('DP',Dstr)]\n",
    "            specs = {\n",
    "                (key:=(algoname,Dstr)):f'Baseline: {models[key].train.Nneurons_policy[0]} $\\\\times$ {models[key].train.Nneurons_policy[0]}',\n",
    "                (key:=(algoname,Dstr,'Nneurons0')):f'{models[key].train.Nneurons_policy[0]} $\\\\times$ {models[key].train.Nneurons_policy[0]}',\n",
    "                (key:=(algoname,Dstr,'Nneurons1')):f'{models[key].train.Nneurons_policy[0]} $\\\\times$ {models[key].train.Nneurons_policy[0]}',\n",
    "            }\n",
    "            \n",
    "            for i,key in enumerate(specs.keys()):\n",
    "                model = models[key]\n",
    "                Nneurons = model.train.Nneurons_policy[0]\n",
    "                Nparameters = np.sum([np.prod(v.size()) for k,v in model.policy_NN.items()])\n",
    "                iter = model.info['iter']\n",
    "\n",
    "                if i == 0:\n",
    "                    print(f'{Nneurons:4d} {Nparameters:7d} {iter:5d} ')\n",
    "                    base_Nparameters = Nparameters\n",
    "                    base_iter = iter\n",
    "                else:\n",
    "                    print(f'{Nneurons:4d} {Nparameters:7d} {iter:5d} {Nparameters/base_Nparameters:.2f} {iter/base_iter:.2f}')\n",
    "\n",
    "            convergence_plot('BufferStockModel',models,specs,DP=DP,do_transfer=True,\n",
    "                            xlim=xlim,ylim=ylim,\n",
    "                            folder=folder,postfix=f'_{algoname}_{D}D_Nneurons')\n",
    "            \n",
    "            plt.show()"
   ]
  },
  {
   "cell_type": "markdown",
   "metadata": {},
   "source": [
    "### 6.5. <a id='toc6_5_'></a>[FOC](#toc0_)"
   ]
  },
  {
   "cell_type": "code",
   "execution_count": null,
   "metadata": {},
   "outputs": [],
   "source": [
    "if full:\n",
    "    for D in Ds:\n",
    "        for algoname in ['DeepVPD']:\n",
    "\n",
    "            Dstr = f'{D}D'\n",
    "            print(algoname,Dstr)\n",
    "\n",
    "            DP = models[('DP',Dstr)]\n",
    "            specs = {\n",
    "                (algoname,Dstr):'DeepVPD',\n",
    "                (algoname,Dstr,'FOC'):'DeepVPD-FOC',\n",
    "            }\n",
    "            convergence_plot('BufferStockModel',models,specs,DP=DP,do_transfer=True,\n",
    "                            xlim=xlim,ylim=ylim,\n",
    "                            folder=folder,postfix=f'_{algoname}_{Dstr}_FOC')"
   ]
  },
  {
   "cell_type": "markdown",
   "metadata": {},
   "source": [
    "### 6.6. <a id='toc6_6_'></a>[Averaging](#toc0_)"
   ]
  },
  {
   "cell_type": "code",
   "execution_count": null,
   "metadata": {},
   "outputs": [],
   "source": [
    "if full:\n",
    "    for D in Ds:\n",
    "        for algoname in ['DeepVPD']:\n",
    "\n",
    "            Dstr = f'{D}D'\n",
    "            print(algoname,Dstr)\n",
    "\n",
    "            DP = models[('DP',Dstr)]\n",
    "            specs = {\n",
    "                (algoname,Dstr):'DeepVPD',\n",
    "                (algoname,Dstr,'NNs3'):'DeepVPD-NNs3',\n",
    "                (algoname,Dstr,'NNs5'):'DeepVPD-NNs5',\n",
    "            }\n",
    "            convergence_plot('BufferStockModel',models,specs,DP=DP,do_transfer=True,\n",
    "                            xlim=xlim,ylim=ylim,\n",
    "                            folder=folder,postfix=f'_{algoname}_{Dstr}_NNs')"
   ]
  },
  {
   "cell_type": "markdown",
   "metadata": {},
   "source": [
    "### 6.7. <a id='toc6_7_'></a>[Float 64](#toc0_)"
   ]
  },
  {
   "cell_type": "code",
   "execution_count": null,
   "metadata": {},
   "outputs": [],
   "source": [
    "if full:\n",
    "    D = 3\n",
    "    for algoname in ['DeepVPD']:\n",
    "\n",
    "        DP = models[('DP',f'{D}D')]\n",
    "        specs = {\n",
    "            (algoname,f'{D}D'):'Baseline: float32',\n",
    "            (algoname,f'{D}D','float64'):'float64',\n",
    "        }\n",
    "        convergence_plot('BufferStockModel',models,specs,DP=DP,do_transfer=True,\n",
    "                        xlim=xlim,ylim=ylim,\n",
    "                        folder=folder,postfix=f'_{algoname}_{D}D_float64')"
   ]
  },
  {
   "cell_type": "markdown",
   "metadata": {},
   "source": [
    "## 7. <a id='toc7_'></a>[Euler Errors](#toc4_2_)                   [&#8593;](#toc0_)"
   ]
  },
  {
   "cell_type": "markdown",
   "metadata": {},
   "source": [
    "**Note:** Only while working."
   ]
  },
  {
   "cell_type": "code",
   "execution_count": 78,
   "metadata": {},
   "outputs": [],
   "source": [
    "from BufferStockModel import select_euler_errors\n",
    "from BufferStockModelEGM import select_euler_errors_EGM"
   ]
  },
  {
   "cell_type": "code",
   "execution_count": null,
   "metadata": {},
   "outputs": [],
   "source": [
    "for D in Ds:\n",
    "\n",
    "    # DP\n",
    "    model_DP = models[(f'DP',f'{D}D')]\n",
    "    euler_error_DP = select_euler_errors_EGM(model_DP)\n",
    "    I = np.isclose(np.abs(euler_error_DP),0.0)\n",
    "    model_DP.info['mean_euler_error'] = np.mean(np.log10(np.abs(euler_error_DP[~I])))\n",
    "    print(f'DP {D}D: {np.mean(I):.4f} share of euler errors are zero')\n",
    "\n",
    "    # DL and figure\n",
    "    for i,algoname in enumerate(algonames + ['DeepVPD_NNs3FOC']):\n",
    "        \n",
    "        model = get_model(models,algoname,D)\n",
    "        if model is None: continue\n",
    "        label = algolabels[algoname]\n",
    "         \n",
    "        fig = plt.figure(figsize=(9,6))\n",
    "        ax = fig.add_subplot(1,1,1)\n",
    "        \n",
    "        euler_error = select_euler_errors(model)\n",
    "        J = np.isclose(np.abs(euler_error),0.0)\n",
    "        print(f'{algoname} {D}D: {np.mean(J):.4f} share of euler errors are zero')\n",
    "\n",
    "        model.info['mean_euler_error'] = np.mean(np.log10(np.abs(euler_error[~J])))\n",
    "\n",
    "        ax.hist(np.log10(np.abs(euler_error_DP)[~I]),bins=100,alpha=0.5,color='grey',density=True,label='EGM')\n",
    "        ax.axvline(x=model_DP.info['mean_euler_error'],color='grey',linestyle='--',label='EGM, mean')\n",
    "\n",
    "        ax.hist(np.log10(np.abs(euler_error)[~J]),bins=100,alpha=0.5,color=colors[i],density=True,label=label)\n",
    "        ax.axvline(x=model.info['mean_euler_error'],color=colors[i],linestyle='--',label=f'{label}, mean')\n",
    "\n",
    "        ax.set_xlim([-8,0])\n",
    "        ax.set_xlabel('Euler error')\n",
    "        ax.set_ylabel('density')\n",
    "\n",
    "        ax.legend(loc='upper left')\n",
    "\n",
    "        filepath = f'{folder}/BufferStockModel_euler_error_{D}D_{algoname}.svg'\n",
    "        fig.savefig(filepath)\n",
    "\n",
    "        if do_display: \n",
    "            plt.show()\n",
    "        else:\n",
    "            plt.close(fig)\n",
    "            display(HTML(f'<a href=\"{filepath}\">{filepath}</a>'))\n"
   ]
  },
  {
   "cell_type": "markdown",
   "metadata": {},
   "source": [
    "## 8. <a id='toc8_'></a>[Table](#toc0_)"
   ]
  },
  {
   "cell_type": "code",
   "execution_count": 80,
   "metadata": {},
   "outputs": [],
   "source": [
    "def create_table(DP,models,labels,DP_name='EGM'):\n",
    "\n",
    "    # define column and row titles\n",
    "    columns = [DP_name] + labels\n",
    "    \n",
    "    rows = [\n",
    "        'Life-time reward, $R$', \n",
    "        'Transfer (bp.)', \n",
    "        'Mean log10 Euler error',\n",
    "        '',\n",
    "        'Total time (m)', \n",
    "        '\\,\\,\\,update NN', \n",
    "        '\\,\\,\\,simulation: training sample', \n",
    "        '\\,\\,\\,simulation: termination check', \n",
    "        'Iterations', \n",
    "        'Avg. policy epochs', \n",
    "        'Avg. value epochs',\n",
    "        \n",
    "    ]\n",
    "\n",
    "    # create with NaN values\n",
    "    df = pd.DataFrame(index=rows,columns=columns).fillna('-')  # using '-' to represent missing df for display purposes\n",
    "    for col in columns:\n",
    "        df.loc['',col] = ''\n",
    "\n",
    "    # fill with values\n",
    "    for model,label in zip([DP]+models,[DP_name]+labels):\n",
    "       df.loc['Life-time reward, $R$',label] = f\"{model.sim.R:.4f}\"\n",
    "\n",
    "    df.loc['Transfer (bp.)', DP_name] = 0\n",
    "    for model,label in zip(models,labels):\n",
    "\n",
    "        transfer = compute_transfer(DP.sim.R_transfer,DP.egm.transfer_grid,\n",
    "                            model.sim.R)\n",
    "        \n",
    "        if not np.isnan(transfer):\n",
    "            df.loc['Transfer (bp.)', label] = f\"{100**2*transfer:.0f}\"\n",
    "        else:\n",
    "            df.loc['Transfer (bp.)', label] = '-'\n",
    "\n",
    "    for model,label in zip([DP]+models,[DP_name]+labels):\n",
    "        df.loc['Mean log10 Euler error',label] = f\"{model.info['mean_euler_error']:.1f}\"\n",
    "\n",
    "    for model,label in zip([DP]+models,[DP_name]+labels):\n",
    "        df.loc['Total time (m)', label] = f\"{model.info['time']/60:.2f}\"\n",
    "\n",
    "    df.loc['\\,\\,\\,update NN',DP_name] = '-'\n",
    "    for model,label in zip(models,labels):\n",
    "        time_rel = model.info['time.update_NN'] / model.info['time']\n",
    "        df.loc['\\,\\,\\,update NN', label] = f\"{100*time_rel:.1f}\\%\"\n",
    "\n",
    "    df.loc['\\,\\,\\,simulation: training sample',DP_name] = '-'\n",
    "    for model,label in zip(models,labels):\n",
    "        time_rel = model.info['time._simulate_training_sample'] / model.info['time']\n",
    "        df.loc['\\,\\,\\,simulation: training sample', label] = f\"{100*time_rel:.1f}\\%\"\n",
    "\n",
    "    df.loc['\\,\\,\\,simulation: termination check',DP_name] = '-'\n",
    "    for model,label in zip(models,labels):\n",
    "        time_rel = model.info['time.simulate_R'] / model.info['time']\n",
    "        df.loc['\\,\\,\\,simulation: termination check', label] = f\"{100*time_rel:.1f}\\%\"\n",
    "\n",
    "    df.loc['Iterations', DP_name] = 1\n",
    "    for model,label in zip(models,labels):\n",
    "        df.loc['Iterations', label] = model.info['iter']\n",
    "\n",
    "    df.loc['Avg. policy epochs', DP_name] = '-'\n",
    "    for model,label in zip(models,labels):\n",
    "        df.loc['Avg. policy epochs', label] = f\"{model.info[('policy_epochs','mean')]:.1f}\"\n",
    "\n",
    "    df.loc['Avg. value epochs', DP_name] = '-'\n",
    "    for model,label in zip(models,labels):\n",
    "        df.loc['Avg. value epochs', label] = f\"{model.info[('value_epochs','mean')]:.1f}\"\n",
    "\n",
    "    return df"
   ]
  },
  {
   "cell_type": "code",
   "execution_count": null,
   "metadata": {
    "tags": []
   },
   "outputs": [],
   "source": [
    "for D in Ds:\n",
    "\n",
    "    print(f'{D = }')\n",
    "\n",
    "    # a. select\n",
    "    DP = models[('DP',f'{D}D')]\n",
    "    algonames_ = algonames + ['DeepVPD_NNs3FOC']\n",
    "    models_ = [get_model(models,algoname,D) for algoname in algonames_]\n",
    "    labels = [algolabels[algoname] for algoname in algonames_]\n",
    "\n",
    "    # b. table\n",
    "    df = create_table(DP,models_,labels)\n",
    "    display(df)\n",
    "\n",
    "    # c. save\n",
    "    filename = f'{folder}/BufferStockModel_table_{D}D.tex'\n",
    "    df.style.to_latex(filename,hrules=True)    "
   ]
  },
  {
   "cell_type": "markdown",
   "metadata": {},
   "source": [
    "### 8.1. <a id='toc8_1_'></a>[More on DeepVPD](#toc0_)"
   ]
  },
  {
   "cell_type": "code",
   "execution_count": null,
   "metadata": {},
   "outputs": [],
   "source": [
    "for D in Ds:\n",
    "\n",
    "    print(f'{D = }')\n",
    "\n",
    "    # a. select\n",
    "    DP = models[('DP',f'{D}D')]\n",
    "\n",
    "    if full:\n",
    "\n",
    "        models_ = [models[('DeepVPD',f'{D}D')],\n",
    "                models[('DeepVPD',f'{D}D','NNs3')],\n",
    "                models[('DeepVPD',f'{D}D','FOC')],\n",
    "                models[('DeepVPD',f'{D}D','NNs3FOC')],\n",
    "        ]\n",
    "\n",
    "        labels = ['Baseline',\n",
    "                '+NNs3',\n",
    "                '+FOC',\n",
    "                '+FOC+NNs3',\n",
    "        ]\n",
    "    \n",
    "    else:\n",
    "\n",
    "        models_ = [\n",
    "            models[('DeepVPD',f'{D}D')],\n",
    "            models[('DeepVPD',f'{D}D','NNs3FOC')],\n",
    "        ]\n",
    "\n",
    "        labels = [\n",
    "            'Baseline',\n",
    "            '+FOC+NNs3',\n",
    "        ]    \n",
    "\n",
    "    # b. Euler erros\n",
    "    for model,label in zip(models_,labels):\n",
    "        euler_error = select_euler_errors(model)\n",
    "        J = np.isclose(np.abs(euler_error),0.0)\n",
    "        print(f'{label}: {np.mean(J):.4f} of euler errors are zero')\n",
    "        model.info['mean_euler_error'] = np.mean(np.log10(np.abs(euler_error[~J])))        \n",
    "\n",
    "    # c. table\n",
    "    df = create_table(DP,models_,labels)\n",
    "    display(df)\n",
    "\n",
    "    # d. save\n",
    "    filename = f'{folder}/BufferStockModel_table_DeepVPD_{D}D.tex'\n",
    "    df.style.to_latex(filename,hrules=True) "
   ]
  }
 ],
 "metadata": {
  "kernelspec": {
   "display_name": "base",
   "language": "python",
   "name": "python3"
  },
  "language_info": {
   "codemirror_mode": {
    "name": "ipython",
    "version": 3
   },
   "file_extension": ".py",
   "mimetype": "text/x-python",
   "name": "python",
   "nbconvert_exporter": "python",
   "pygments_lexer": "ipython3",
   "version": "3.11.4"
  }
 },
 "nbformat": 4,
 "nbformat_minor": 4
}
