{
 "cells": [
  {
   "cell_type": "markdown",
   "metadata": {},
   "source": [
    "# Status"
   ]
  },
  {
   "cell_type": "markdown",
   "metadata": {},
   "source": [
    "## Imports"
   ]
  },
  {
   "cell_type": "code",
   "execution_count": 7,
   "metadata": {},
   "outputs": [
    {
     "name": "stdout",
     "output_type": "stream",
     "text": [
      "The autoreload extension is already loaded. To reload it, use:\n",
      "  %reload_ext autoreload\n"
     ]
    }
   ],
   "source": [
    "%load_ext autoreload\n",
    "%autoreload 2"
   ]
  },
  {
   "cell_type": "code",
   "execution_count": 8,
   "metadata": {
    "tags": []
   },
   "outputs": [],
   "source": [
    "import torch\n",
    "import pandas as pd"
   ]
  },
  {
   "cell_type": "code",
   "execution_count": 9,
   "metadata": {},
   "outputs": [],
   "source": [
    "from EconDLSolvers import choose_gpu"
   ]
  },
  {
   "cell_type": "code",
   "execution_count": 10,
   "metadata": {
    "tags": []
   },
   "outputs": [],
   "source": [
    "from DurablesModel import DurablesModelClass"
   ]
  },
  {
   "cell_type": "markdown",
   "metadata": {},
   "source": [
    "## Setup"
   ]
  },
  {
   "cell_type": "code",
   "execution_count": 11,
   "metadata": {},
   "outputs": [
    {
     "name": "stdout",
     "output_type": "stream",
     "text": [
      "GPU 0: 72.49GB free\n",
      "Best GPU: 0\n"
     ]
    }
   ],
   "source": [
    "device = choose_gpu()\n",
    "K = 1"
   ]
  },
  {
   "cell_type": "markdown",
   "metadata": {
    "tags": []
   },
   "source": [
    "## Run"
   ]
  },
  {
   "cell_type": "code",
   "execution_count": 12,
   "metadata": {
    "tags": []
   },
   "outputs": [
    {
     "name": "stdout",
     "output_type": "stream",
     "text": [
      "### DeepSimulate ###\n",
      "k =     0 of 0: sim.R = -43.12034225 [best: -43.12034225] [1.8 secs] [value_epochs =   0] [policy_epochs =   1] [  0.03 mins]\n",
      "Terminating after 1 iter, max number of iterations reached\n",
      "R = -43.1203, time = 0.0 mins, iter = 1, policy epochs = 1.00, value epochs = 0.00\n",
      "Simulating multiple Rs\n",
      "\n",
      "### DeepFOC ###\n",
      "k =     0 of 0: sim.R = -33.29774857 [best: -33.29774857] [1.3 secs] [value_epochs =   0] [policy_epochs =  15] [  0.02 mins]\n",
      "Terminating after 1 iter, max number of iterations reached\n",
      "R = -33.2977, time = 0.0 mins, iter = 1, policy epochs = 15.00, value epochs = 0.00\n",
      "Simulating multiple Rs\n",
      "Simulating with exploration\n",
      "\n",
      "### DeepVPD ###\n",
      "k =     0 of 0: sim.R = -38.84362411 [best: -38.84362411] [0.5 secs] [value_epochs =  50] [policy_epochs =  15] [  0.01 mins]\n",
      "Terminating after 1 iter, max number of iterations reached\n",
      "R = -38.8436, time = 0.0 mins, iter = 1, policy epochs = 15.00, value epochs = 50.00\n",
      "Simulating multiple Rs\n",
      "Simulating with exploration\n",
      "\n"
     ]
    }
   ],
   "source": [
    "for algoname in ['DeepSimulate','DeepFOC','DeepVPD']:\n",
    "    \n",
    "    print(f'### {algoname} ###')\n",
    "\n",
    "    model = DurablesModelClass(algoname=algoname,device=device,\n",
    "                               par={'D':1,'KKT':algoname=='DeepFOC'},train={'K':K})\n",
    "    model.solve(do_print=True)\n",
    "        \n",
    "    print('')"
   ]
  }
 ],
 "metadata": {
  "kernelspec": {
   "display_name": "base",
   "language": "python",
   "name": "python3"
  },
  "language_info": {
   "codemirror_mode": {
    "name": "ipython",
    "version": 3
   },
   "file_extension": ".py",
   "mimetype": "text/x-python",
   "name": "python",
   "nbconvert_exporter": "python",
   "pygments_lexer": "ipython3",
   "version": "3.11.5"
  }
 },
 "nbformat": 4,
 "nbformat_minor": 4
}
