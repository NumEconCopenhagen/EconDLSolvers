{
 "cells": [
  {
   "cell_type": "markdown",
   "metadata": {},
   "source": [
    "# Test DL"
   ]
  },
  {
   "cell_type": "markdown",
   "metadata": {},
   "source": [
    "## Imports"
   ]
  },
  {
   "cell_type": "code",
   "execution_count": 1,
   "metadata": {
    "tags": []
   },
   "outputs": [],
   "source": [
    "%load_ext autoreload\n",
    "%autoreload 2"
   ]
  },
  {
   "cell_type": "code",
   "execution_count": 2,
   "metadata": {
    "tags": []
   },
   "outputs": [],
   "source": [
    "%load_ext line_profiler"
   ]
  },
  {
   "cell_type": "code",
   "execution_count": 3,
   "metadata": {
    "tags": []
   },
   "outputs": [],
   "source": [
    "import os\n",
    "import numpy as np\n",
    "import torch"
   ]
  },
  {
   "cell_type": "code",
   "execution_count": 4,
   "metadata": {},
   "outputs": [],
   "source": [
    "import matplotlib.pyplot as plt\n",
    "colors = plt.rcParams['axes.prop_cycle'].by_key()['color']\n",
    "plt.rcParams.update({\"axes.grid\" : True, \"grid.color\": \"black\", \"grid.alpha\":\"0.25\", \"grid.linestyle\": \"--\"})\n",
    "plt.rcParams.update({'font.size': 14})"
   ]
  },
  {
   "cell_type": "code",
   "execution_count": 5,
   "metadata": {
    "tags": []
   },
   "outputs": [],
   "source": [
    "from EconDLSolvers import choose_gpu"
   ]
  },
  {
   "cell_type": "code",
   "execution_count": 6,
   "metadata": {
    "tags": []
   },
   "outputs": [],
   "source": [
    "from DurablesModel import DurablesModelClass"
   ]
  },
  {
   "cell_type": "markdown",
   "metadata": {},
   "source": [
    "## Setup"
   ]
  },
  {
   "cell_type": "code",
   "execution_count": 7,
   "metadata": {
    "tags": [
     "parameters"
    ]
   },
   "outputs": [],
   "source": [
    "algoname = 'DeepSimulate'"
   ]
  },
  {
   "cell_type": "code",
   "execution_count": 8,
   "metadata": {
    "tags": []
   },
   "outputs": [
    {
     "name": "stdout",
     "output_type": "stream",
     "text": [
      "GPU 0: 79.09GB free\n",
      "Best GPU: 0\n"
     ]
    }
   ],
   "source": [
    "device = choose_gpu()"
   ]
  },
  {
   "cell_type": "code",
   "execution_count": 9,
   "metadata": {
    "tags": []
   },
   "outputs": [
    {
     "name": "stdout",
     "output_type": "stream",
     "text": [
      "initial: 79.09GB free\n",
      "setup()+allocate(): 0.71GB allocated\n",
      "setup_train()+allocate_train()+quad(): 0.00GB allocated\n",
      "allocate_DLSolver(): 0.01GB allocated\n",
      "final: 78.37GB free\n"
     ]
    }
   ],
   "source": [
    "model = DurablesModelClass(algoname=algoname,device=device,par={'D':1,'KKT':algoname=='DeepFOC'},train={'K_time':0.5},show_memory=True)"
   ]
  },
  {
   "cell_type": "markdown",
   "metadata": {},
   "source": [
    "## Run"
   ]
  },
  {
   "cell_type": "code",
   "execution_count": 10,
   "metadata": {
    "tags": []
   },
   "outputs": [
    {
     "name": "stdout",
     "output_type": "stream",
     "text": [
      "initial: 78.37GB free\n",
      "k =     0 of 9999: sim.R = -43.12034225 [best: -43.12034225] [0.4 secs] [value_epochs =   0] [policy_epochs =   1] [  0.01 mins]\n",
      "k =    50 of 9999: sim.R = -32.31498337 [best: -32.31498337] [0.2 secs] [value_epochs =   0] [policy_epochs =   1] [  0.12 mins]\n",
      "k =   100 of 9999: sim.R = -32.03359604 [best: -32.03359604] [0.2 secs] [value_epochs =   0] [policy_epochs =   1] [  0.24 mins]\n",
      "k =   150 of 9999: sim.R = -31.71736908 [best: -31.71736908] [0.2 secs] [value_epochs =   0] [policy_epochs =   1] [  0.36 mins]\n",
      "k =   200 of 9999: sim.R = -31.67133713 [best: -31.67133713] [0.2 secs] [value_epochs =   0] [policy_epochs =   1] [  0.46 mins]\n",
      "Terminating after 216 iter, max time 0.5 mins reached\n",
      "R = -31.6682, time = 0.5 mins, iter = 216, policy epochs = 1.00, value epochs = 0.00\n",
      "Simulating multiple Rs\n",
      "solve(): 1.13GB allocated\n",
      "empty_cache(): -0.94GB deallocated\n",
      "final: 78.17GB free\n"
     ]
    }
   ],
   "source": [
    "model.solve(do_print=True,show_memory=True)"
   ]
  }
 ],
 "metadata": {
  "kernelspec": {
   "display_name": "base",
   "language": "python",
   "name": "python3"
  },
  "language_info": {
   "codemirror_mode": {
    "name": "ipython",
    "version": 3
   },
   "file_extension": ".py",
   "mimetype": "text/x-python",
   "name": "python",
   "nbconvert_exporter": "python",
   "pygments_lexer": "ipython3",
   "version": "3.11.5"
  },
  "toc-autonumbering": true
 },
 "nbformat": 4,
 "nbformat_minor": 4
}
