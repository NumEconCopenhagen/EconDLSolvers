{
 "cells": [
  {
   "cell_type": "markdown",
   "metadata": {},
   "source": [
    "**Table of contents**<a id='toc0_'></a>    \n",
    "- 1. [Imports](#toc1_)    \n",
    "- 2. [Solve DP](#toc2_)    \n",
    "- 3. [Simulation](#toc3_)    \n",
    "- 4. [Policy functions](#toc4_)    \n",
    "- 5. [Save](#toc5_)    \n",
    "\n",
    "<!-- vscode-jupyter-toc-config\n",
    "\tnumbering=true\n",
    "\tanchor=true\n",
    "\tflat=false\n",
    "\tminLevel=2\n",
    "\tmaxLevel=6\n",
    "\t/vscode-jupyter-toc-config -->\n",
    "<!-- THIS CELL WILL BE REPLACED ON TOC UPDATE. DO NOT WRITE YOUR TEXT IN THIS CELL -->"
   ]
  },
  {
   "cell_type": "markdown",
   "metadata": {},
   "source": [
    "## 1. <a id='toc1_'></a>[Imports](#toc0_)"
   ]
  },
  {
   "cell_type": "code",
   "execution_count": 1,
   "metadata": {
    "tags": []
   },
   "outputs": [],
   "source": [
    "%load_ext autoreload\n",
    "%autoreload 2"
   ]
  },
  {
   "cell_type": "code",
   "execution_count": 2,
   "metadata": {},
   "outputs": [],
   "source": [
    "import numpy as np\n",
    "import matplotlib.pyplot as plt\n",
    "\n",
    "from NonConvexDurablesModelEGM import NonConvexDurablesModelEGMClass\n"
   ]
  },
  {
   "cell_type": "markdown",
   "metadata": {},
   "source": [
    "## 2. <a id='toc2_'></a>[Solve DP](#toc0_)"
   ]
  },
  {
   "cell_type": "code",
   "execution_count": 19,
   "metadata": {},
   "outputs": [],
   "source": [
    "model_DP = NonConvexDurablesModelEGMClass()\n"
   ]
  },
  {
   "cell_type": "code",
   "execution_count": 20,
   "metadata": {},
   "outputs": [],
   "source": [
    "model_DP.link_to_cpp()"
   ]
  },
  {
   "cell_type": "code",
   "execution_count": null,
   "metadata": {
    "tags": []
   },
   "outputs": [],
   "source": [
    "model_DP.solve()\n",
    "model_DP.simulate_R()\n",
    "model_DP.compute_transfer_func()\n",
    "model_DP.sim.R"
   ]
  },
  {
   "cell_type": "code",
   "execution_count": 22,
   "metadata": {},
   "outputs": [],
   "source": [
    "sim = model_DP.sim\n",
    "par = model_DP.par\n",
    "egm = model_DP.egm"
   ]
  },
  {
   "cell_type": "markdown",
   "metadata": {},
   "source": [
    "## 3. <a id='toc3_'></a>[Simulation](#toc0_)"
   ]
  },
  {
   "cell_type": "code",
   "execution_count": null,
   "metadata": {},
   "outputs": [],
   "source": [
    "print(f'{sim.R = :12.8f}')"
   ]
  },
  {
   "cell_type": "code",
   "execution_count": null,
   "metadata": {},
   "outputs": [],
   "source": [
    "fig = plt.figure(figsize=(12,8))\n",
    "\n",
    "ax = fig.add_subplot(2,2,1)\n",
    "ax.plot(np.mean(model_DP.sim.c, axis=1))\n",
    "ax.set_title('con')\n",
    "\n",
    "ax = fig.add_subplot(2,2,2)\n",
    "ax.plot(np.mean(model_DP.sim.d,axis=1))\n",
    "ax.set_title('d')\n",
    "\n",
    "ax = fig.add_subplot(2,2,3)\n",
    "ax.plot(np.mean(model_DP.sim.DC,axis=1))\n",
    "ax.set_title('adj')\n",
    "\n",
    "ax = fig.add_subplot(2,2,3)\n",
    "ax.plot(np.mean(model_DP.sim.states[...,0],axis=1))\n",
    "ax.set_title('m')\n",
    "\n",
    "fig.tight_layout()"
   ]
  },
  {
   "cell_type": "markdown",
   "metadata": {},
   "source": [
    "## 4. <a id='toc4_'></a>[Policy functions](#toc0_)"
   ]
  },
  {
   "cell_type": "code",
   "execution_count": null,
   "metadata": {},
   "outputs": [],
   "source": [
    "\n",
    "for t in [0,5,10,14]:\n",
    "\n",
    "    fig = plt.figure(figsize=(6,4))\n",
    "    \n",
    "    ax = fig.add_subplot(1,1,1)\n",
    "    for i_p in [egm.Np//5,2*egm.Np//5]:\n",
    "        for i_n,ls in zip([egm.Nn//3,2*egm.Nn//3],['-','--']):\n",
    "            y = (1-model_DP.egm.sol_sav_share_keep[t,i_p,i_n,:]) * model_DP.egm.m_grid\n",
    "            ax.plot(egm.m_grid,y,ls=ls,label=f\"p={egm.p_grid[i_p]:.2f}, n={egm.n_grid[i_n]:.2f}\")\n",
    "    \n",
    "    ax.legend()\n",
    "\n",
    "    ax.set_title(f't={t}')"
   ]
  },
  {
   "cell_type": "code",
   "execution_count": null,
   "metadata": {},
   "outputs": [],
   "source": [
    "for t in [0,5,10,14]:\n",
    "\n",
    "    fig,ax = plt.subplots(1,2)\n",
    "    \n",
    "    # ax = fig.a\n",
    "    for i_p in [egm.Np//5,2*egm.Np//5,3*egm.Np//5]:\n",
    "        for i_n,ls in zip([egm.Nn//3,2*egm.Nn//3],['-','--']):\n",
    "            x =  egm.m_grid + (1-par.kappa) * egm.n_grid[i_n]\n",
    "            expenditure = (1-egm.sol_exp_share_adj[t,i_p,i_n]) * x\n",
    "            c = egm.sol_c_share_adj[t,i_p,i_n] * expenditure\n",
    "            d = expenditure - c\n",
    "            ax[0].plot(egm.m_grid,c,ls=ls,label=f\"p={egm.p_grid[i_p]:.2f}, n={egm.n_grid[i_n]:.2f}\")\n",
    "            ax[1].plot(egm.m_grid,d,ls=ls,label=f\"p={egm.p_grid[i_p]:.2f}, n={egm.n_grid[i_n]:.2f}\")\n",
    "\n",
    "    \n",
    "    ax[0].legend()\n",
    "    ax[0].set_title('c')\n",
    "    ax[1].set_title('d')\n",
    "\n",
    "\n",
    "    fig.suptitle(f't={t}')"
   ]
  },
  {
   "cell_type": "markdown",
   "metadata": {},
   "source": [
    "## 5. <a id='toc5_'></a>[Save](#toc0_)"
   ]
  },
  {
   "cell_type": "code",
   "execution_count": 14,
   "metadata": {},
   "outputs": [],
   "source": [
    "model_DP.save('../output/NonConvexDurablesModel_1D_DP_full.pkl')"
   ]
  },
  {
   "cell_type": "code",
   "execution_count": 15,
   "metadata": {},
   "outputs": [],
   "source": [
    "# a. grids for dynamic states\n",
    "\n",
    "\n",
    "# keeper\n",
    "egm.sol_sav_share_keep = None\n",
    "egm.sol_v_keep = None\n",
    "\n",
    "# adjuster\n",
    "egm.sol_exp_share_adj = None\n",
    "egm.sol_c_share_adj = None\n",
    "egm.sol_v_adj = None\n",
    "\n",
    "egm.sol_func_evals_keep = None\n",
    "egm.sol_flag_keep = None\n",
    "egm.sol_func_evals_adj = None\n",
    "egm.sol_flag_adj = None\n",
    "\n",
    "# post-decision\n",
    "egm.sol_w = None"
   ]
  },
  {
   "cell_type": "code",
   "execution_count": 17,
   "metadata": {},
   "outputs": [],
   "source": [
    "model_DP.save('../output/NonConvexDurablesModel_1D_DP.pkl')"
   ]
  }
 ],
 "metadata": {
  "kernelspec": {
   "display_name": "Python 3",
   "language": "python",
   "name": "python3"
  },
  "language_info": {
   "codemirror_mode": {
    "name": "ipython",
    "version": 3
   },
   "file_extension": ".py",
   "mimetype": "text/x-python",
   "name": "python",
   "nbconvert_exporter": "python",
   "pygments_lexer": "ipython3",
   "version": "3.11.5"
  }
 },
 "nbformat": 4,
 "nbformat_minor": 4
}
