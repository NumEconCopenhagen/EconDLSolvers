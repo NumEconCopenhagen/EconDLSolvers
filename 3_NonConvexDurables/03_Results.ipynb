{
 "cells": [
  {
   "cell_type": "markdown",
   "metadata": {},
   "source": [
    "## 1. <a id='toc1_'></a>[Imports](#toc0_)"
   ]
  },
  {
   "cell_type": "code",
   "execution_count": null,
   "metadata": {},
   "outputs": [],
   "source": [
    "import os\n",
    "os.environ['KMP_DUPLICATE_LIB_OK'] = 'TRUE' # without this python may crash when plotting from matplotlib\n",
    "import sys\n",
    "from copy import deepcopy\n",
    "import numpy as np\n",
    "\n",
    "import matplotlib.pyplot as plt\n",
    "colors = plt.rcParams['axes.prop_cycle'].by_key()['color']\n",
    "plt.rcParams.update({\"axes.grid\":True,\"grid.color\": \"black\",\"grid.alpha\":\"0.25\",\"grid.linestyle\": \"--\"})\n",
    "plt.rcParams.update({'font.size':14})\n",
    "plt.rcParams.update({'font.family':'serif'})"
   ]
  },
  {
   "cell_type": "code",
   "execution_count": null,
   "metadata": {},
   "outputs": [],
   "source": [
    "parent_directory = os.path.abspath('..')\n",
    "sys.path.append(parent_directory)\n",
    "from plot_funcs import load_all, compute_transfer"
   ]
  },
  {
   "cell_type": "code",
   "execution_count": null,
   "metadata": {},
   "outputs": [],
   "source": [
    "folder_load = '../output/'\n",
    "models = load_all(folder_load,'NonConvexDurablesModel')"
   ]
  },
  {
   "cell_type": "code",
   "execution_count": null,
   "metadata": {},
   "outputs": [],
   "source": [
    "folder_save = '../output/results'"
   ]
  },
  {
   "cell_type": "markdown",
   "metadata": {},
   "source": [
    "## 2. <a id='toc1_'></a>[Simulated life-cycle profiles](#toc0_)"
   ]
  },
  {
   "cell_type": "code",
   "execution_count": null,
   "metadata": {},
   "outputs": [],
   "source": [
    "fig = plt.figure(figsize=(12,8))\n",
    "\n",
    "ax = fig.add_subplot(2,2,1)\n",
    "ax.plot(np.mean(models[('1D','DL')].sim.c,axis=1),label='DL')\n",
    "ax.plot(np.mean(models[('1D','DP')].sim.c,axis=1),label='DP',ls='--')\n",
    "ax.legend()\n",
    "ax.set_title('c')\n",
    "ax.set_xlabel('period, $t$')\n",
    "ax.set_ylabel('consumption')\n",
    "\n",
    "ax = fig.add_subplot(2,2,2)\n",
    "ax.plot(np.mean(models[('1D','DL')].sim.d,axis=1),label='DL')\n",
    "ax.plot(np.mean(models[('1D','DP')].sim.d,axis=1),label='DP',ls='--')\n",
    "ax.set_title('d')\n",
    "ax.set_xlabel('period, $t$')\n",
    "ax.set_ylabel('durables')\n",
    "\n",
    "ax = fig.add_subplot(2,2,3)\n",
    "ax.plot(np.mean(models[('1D','DL')].sim.DC,axis=1),label='DL')\n",
    "ax.plot(np.mean(models[('1D','DP')].sim.DC,axis=1),label='DP',ls='--')\n",
    "ax.set_title('adj')\n",
    "ax.set_xlabel('period, $t$')\n",
    "ax.set_ylabel('share of adjusters')\n",
    "\n",
    "ax = fig.add_subplot(2,2,4)\n",
    "ax.plot(np.mean(models[('1D','DL')].sim.states[...,0],axis=1),label='DL')\n",
    "ax.plot(np.mean(models[('1D','DP')].sim.states[...,0],axis=1),label='DP',ls='--')\n",
    "ax.set_title('m')\n",
    "ax.set_xlabel('period, $t$')\n",
    "ax.set_ylabel('cash-on-hand')\n",
    "\n",
    "fig.tight_layout()\n",
    "\n",
    "fig.savefig(f'{folder_save}/NonConvexDurablesModel_lcps.svg')\n"
   ]
  },
  {
   "cell_type": "markdown",
   "metadata": {},
   "source": [
    "## 3. <a id='toc1_'></a>[Transfer](#toc0_)"
   ]
  },
  {
   "cell_type": "code",
   "execution_count": null,
   "metadata": {},
   "outputs": [],
   "source": [
    "print(models[('1D','DP')].sim.R)\n",
    "print(models[('1D','DL')].sim.R)"
   ]
  },
  {
   "cell_type": "code",
   "execution_count": null,
   "metadata": {},
   "outputs": [],
   "source": [
    "R = models[('1D','DL')].sim.R\n",
    "R_transfer = deepcopy(models[('1D','DP')].sim.R_transfer)\n",
    "transfer = compute_transfer(R_transfer, models[('1D','DP')].vfi.transfer_grid,R,do_extrap=False)\n",
    "\n",
    "print(f'transfer in basis points of initial cash-on-hand is {100**2 * transfer:.2f}')"
   ]
  }
 ],
 "metadata": {
  "kernelspec": {
   "display_name": "base",
   "language": "python",
   "name": "python3"
  },
  "language_info": {
   "codemirror_mode": {
    "name": "ipython",
    "version": 3
   },
   "file_extension": ".py",
   "mimetype": "text/x-python",
   "name": "python",
   "nbconvert_exporter": "python",
   "pygments_lexer": "ipython3",
   "version": "3.9.13"
  }
 },
 "nbformat": 4,
 "nbformat_minor": 2
}
